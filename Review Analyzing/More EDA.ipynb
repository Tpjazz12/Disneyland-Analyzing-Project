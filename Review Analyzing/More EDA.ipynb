{
 "cells": [
  {
   "cell_type": "markdown",
   "id": "11998af9",
   "metadata": {},
   "source": [
    "###  Concordance & Collocations of the negative reviews to identify problems that bothers tourists most"
   ]
  },
  {
   "cell_type": "code",
   "execution_count": 1,
   "id": "d5cd81a4",
   "metadata": {},
   "outputs": [],
   "source": [
    "import numpy as np \n",
    "import pandas as pd \n",
    "import os\n",
    "import matplotlib.pyplot as plt\n",
    "plt.style.use('ggplot')\n",
    "import seaborn as sns\n",
    "import plotly.express as px\n",
    "import plotly.graph_objects as go\n",
    "from wordcloud import WordCloud, STOPWORDS , ImageColorGenerator\n",
    "import re\n",
    "from PIL import Image\n",
    "from spacy import displacy\n",
    "from collections import Counter\n",
    "import spacy\n",
    "import en_core_web_lg"
   ]
  },
  {
   "cell_type": "code",
   "execution_count": 2,
   "id": "3d8f2372",
   "metadata": {},
   "outputs": [],
   "source": [
    "import spacy\n",
    "nlp = spacy.load(\"en_core_web_lg\")"
   ]
  },
  {
   "cell_type": "code",
   "execution_count": 4,
   "id": "ef210918",
   "metadata": {},
   "outputs": [],
   "source": [
    "df = pd.read_csv(\"DisneylandReviews.csv\", encoding='latin1')"
   ]
  },
  {
   "cell_type": "code",
   "execution_count": 5,
   "id": "99f9498b",
   "metadata": {},
   "outputs": [
    {
     "data": {
      "text/html": [
       "<div>\n",
       "<style scoped>\n",
       "    .dataframe tbody tr th:only-of-type {\n",
       "        vertical-align: middle;\n",
       "    }\n",
       "\n",
       "    .dataframe tbody tr th {\n",
       "        vertical-align: top;\n",
       "    }\n",
       "\n",
       "    .dataframe thead th {\n",
       "        text-align: right;\n",
       "    }\n",
       "</style>\n",
       "<table border=\"1\" class=\"dataframe\">\n",
       "  <thead>\n",
       "    <tr style=\"text-align: right;\">\n",
       "      <th></th>\n",
       "      <th>Review_ID</th>\n",
       "      <th>Rating</th>\n",
       "      <th>Year_Month</th>\n",
       "      <th>Reviewer_Location</th>\n",
       "      <th>Review_Text</th>\n",
       "      <th>Branch</th>\n",
       "    </tr>\n",
       "  </thead>\n",
       "  <tbody>\n",
       "    <tr>\n",
       "      <th>0</th>\n",
       "      <td>670772142</td>\n",
       "      <td>4</td>\n",
       "      <td>2019-4</td>\n",
       "      <td>Australia</td>\n",
       "      <td>If you've ever been to Disneyland anywhere you...</td>\n",
       "      <td>Disneyland_HongKong</td>\n",
       "    </tr>\n",
       "    <tr>\n",
       "      <th>1</th>\n",
       "      <td>670682799</td>\n",
       "      <td>4</td>\n",
       "      <td>2019-5</td>\n",
       "      <td>Philippines</td>\n",
       "      <td>Its been a while since d last time we visit HK...</td>\n",
       "      <td>Disneyland_HongKong</td>\n",
       "    </tr>\n",
       "    <tr>\n",
       "      <th>2</th>\n",
       "      <td>670623270</td>\n",
       "      <td>4</td>\n",
       "      <td>2019-4</td>\n",
       "      <td>United Arab Emirates</td>\n",
       "      <td>Thanks God it wasn   t too hot or too humid wh...</td>\n",
       "      <td>Disneyland_HongKong</td>\n",
       "    </tr>\n",
       "    <tr>\n",
       "      <th>3</th>\n",
       "      <td>670607911</td>\n",
       "      <td>4</td>\n",
       "      <td>2019-4</td>\n",
       "      <td>Australia</td>\n",
       "      <td>HK Disneyland is a great compact park. Unfortu...</td>\n",
       "      <td>Disneyland_HongKong</td>\n",
       "    </tr>\n",
       "    <tr>\n",
       "      <th>4</th>\n",
       "      <td>670607296</td>\n",
       "      <td>4</td>\n",
       "      <td>2019-4</td>\n",
       "      <td>United Kingdom</td>\n",
       "      <td>the location is not in the city, took around 1...</td>\n",
       "      <td>Disneyland_HongKong</td>\n",
       "    </tr>\n",
       "    <tr>\n",
       "      <th>...</th>\n",
       "      <td>...</td>\n",
       "      <td>...</td>\n",
       "      <td>...</td>\n",
       "      <td>...</td>\n",
       "      <td>...</td>\n",
       "      <td>...</td>\n",
       "    </tr>\n",
       "    <tr>\n",
       "      <th>42651</th>\n",
       "      <td>1765031</td>\n",
       "      <td>5</td>\n",
       "      <td>missing</td>\n",
       "      <td>United Kingdom</td>\n",
       "      <td>i went to disneyland paris in july 03 and thou...</td>\n",
       "      <td>Disneyland_Paris</td>\n",
       "    </tr>\n",
       "    <tr>\n",
       "      <th>42652</th>\n",
       "      <td>1659553</td>\n",
       "      <td>5</td>\n",
       "      <td>missing</td>\n",
       "      <td>Canada</td>\n",
       "      <td>2 adults and 1 child of 11 visited Disneyland ...</td>\n",
       "      <td>Disneyland_Paris</td>\n",
       "    </tr>\n",
       "    <tr>\n",
       "      <th>42653</th>\n",
       "      <td>1645894</td>\n",
       "      <td>5</td>\n",
       "      <td>missing</td>\n",
       "      <td>South Africa</td>\n",
       "      <td>My eleven year old daughter and myself went to...</td>\n",
       "      <td>Disneyland_Paris</td>\n",
       "    </tr>\n",
       "    <tr>\n",
       "      <th>42654</th>\n",
       "      <td>1618637</td>\n",
       "      <td>4</td>\n",
       "      <td>missing</td>\n",
       "      <td>United States</td>\n",
       "      <td>This hotel, part of the Disneyland Paris compl...</td>\n",
       "      <td>Disneyland_Paris</td>\n",
       "    </tr>\n",
       "    <tr>\n",
       "      <th>42655</th>\n",
       "      <td>1536786</td>\n",
       "      <td>4</td>\n",
       "      <td>missing</td>\n",
       "      <td>United Kingdom</td>\n",
       "      <td>I went to the Disneyparis resort, in 1996, wit...</td>\n",
       "      <td>Disneyland_Paris</td>\n",
       "    </tr>\n",
       "  </tbody>\n",
       "</table>\n",
       "<p>42656 rows × 6 columns</p>\n",
       "</div>"
      ],
      "text/plain": [
       "       Review_ID  Rating Year_Month     Reviewer_Location  \\\n",
       "0      670772142       4     2019-4             Australia   \n",
       "1      670682799       4     2019-5           Philippines   \n",
       "2      670623270       4     2019-4  United Arab Emirates   \n",
       "3      670607911       4     2019-4             Australia   \n",
       "4      670607296       4     2019-4        United Kingdom   \n",
       "...          ...     ...        ...                   ...   \n",
       "42651    1765031       5    missing        United Kingdom   \n",
       "42652    1659553       5    missing                Canada   \n",
       "42653    1645894       5    missing          South Africa   \n",
       "42654    1618637       4    missing         United States   \n",
       "42655    1536786       4    missing        United Kingdom   \n",
       "\n",
       "                                             Review_Text               Branch  \n",
       "0      If you've ever been to Disneyland anywhere you...  Disneyland_HongKong  \n",
       "1      Its been a while since d last time we visit HK...  Disneyland_HongKong  \n",
       "2      Thanks God it wasn   t too hot or too humid wh...  Disneyland_HongKong  \n",
       "3      HK Disneyland is a great compact park. Unfortu...  Disneyland_HongKong  \n",
       "4      the location is not in the city, took around 1...  Disneyland_HongKong  \n",
       "...                                                  ...                  ...  \n",
       "42651  i went to disneyland paris in july 03 and thou...     Disneyland_Paris  \n",
       "42652  2 adults and 1 child of 11 visited Disneyland ...     Disneyland_Paris  \n",
       "42653  My eleven year old daughter and myself went to...     Disneyland_Paris  \n",
       "42654  This hotel, part of the Disneyland Paris compl...     Disneyland_Paris  \n",
       "42655  I went to the Disneyparis resort, in 1996, wit...     Disneyland_Paris  \n",
       "\n",
       "[42656 rows x 6 columns]"
      ]
     },
     "execution_count": 5,
     "metadata": {},
     "output_type": "execute_result"
    }
   ],
   "source": [
    "df"
   ]
  },
  {
   "cell_type": "code",
   "execution_count": 6,
   "id": "0ad7a630",
   "metadata": {},
   "outputs": [
    {
     "name": "stdout",
     "output_type": "stream",
     "text": [
      "<class 'pandas.core.frame.DataFrame'>\n",
      "RangeIndex: 42656 entries, 0 to 42655\n",
      "Data columns (total 6 columns):\n",
      " #   Column             Non-Null Count  Dtype \n",
      "---  ------             --------------  ----- \n",
      " 0   Review_ID          42656 non-null  int64 \n",
      " 1   Rating             42656 non-null  int64 \n",
      " 2   Year_Month         42656 non-null  object\n",
      " 3   Reviewer_Location  42656 non-null  object\n",
      " 4   Review_Text        42656 non-null  object\n",
      " 5   Branch             42656 non-null  object\n",
      "dtypes: int64(2), object(4)\n",
      "memory usage: 2.0+ MB\n"
     ]
    }
   ],
   "source": [
    "df.info()"
   ]
  },
  {
   "cell_type": "code",
   "execution_count": 7,
   "id": "79da10ff",
   "metadata": {},
   "outputs": [
    {
     "data": {
      "text/html": [
       "<div>\n",
       "<style scoped>\n",
       "    .dataframe tbody tr th:only-of-type {\n",
       "        vertical-align: middle;\n",
       "    }\n",
       "\n",
       "    .dataframe tbody tr th {\n",
       "        vertical-align: top;\n",
       "    }\n",
       "\n",
       "    .dataframe thead th {\n",
       "        text-align: right;\n",
       "    }\n",
       "</style>\n",
       "<table border=\"1\" class=\"dataframe\">\n",
       "  <thead>\n",
       "    <tr style=\"text-align: right;\">\n",
       "      <th></th>\n",
       "      <th>Review_ID</th>\n",
       "      <th>Rating</th>\n",
       "      <th>Year_Month</th>\n",
       "      <th>Reviewer_Location</th>\n",
       "      <th>Review_Text</th>\n",
       "      <th>Branch</th>\n",
       "    </tr>\n",
       "  </thead>\n",
       "  <tbody>\n",
       "    <tr>\n",
       "      <th>0</th>\n",
       "      <td>670772142</td>\n",
       "      <td>4</td>\n",
       "      <td>2019-4</td>\n",
       "      <td>Australia</td>\n",
       "      <td>If you've ever been to Disneyland anywhere you...</td>\n",
       "      <td>Disneyland_HongKong</td>\n",
       "    </tr>\n",
       "    <tr>\n",
       "      <th>1</th>\n",
       "      <td>670682799</td>\n",
       "      <td>4</td>\n",
       "      <td>2019-5</td>\n",
       "      <td>Philippines</td>\n",
       "      <td>Its been a while since d last time we visit HK...</td>\n",
       "      <td>Disneyland_HongKong</td>\n",
       "    </tr>\n",
       "    <tr>\n",
       "      <th>2</th>\n",
       "      <td>670623270</td>\n",
       "      <td>4</td>\n",
       "      <td>2019-4</td>\n",
       "      <td>United Arab Emirates</td>\n",
       "      <td>Thanks God it wasn   t too hot or too humid wh...</td>\n",
       "      <td>Disneyland_HongKong</td>\n",
       "    </tr>\n",
       "    <tr>\n",
       "      <th>3</th>\n",
       "      <td>670607911</td>\n",
       "      <td>4</td>\n",
       "      <td>2019-4</td>\n",
       "      <td>Australia</td>\n",
       "      <td>HK Disneyland is a great compact park. Unfortu...</td>\n",
       "      <td>Disneyland_HongKong</td>\n",
       "    </tr>\n",
       "    <tr>\n",
       "      <th>4</th>\n",
       "      <td>670607296</td>\n",
       "      <td>4</td>\n",
       "      <td>2019-4</td>\n",
       "      <td>United Kingdom</td>\n",
       "      <td>the location is not in the city, took around 1...</td>\n",
       "      <td>Disneyland_HongKong</td>\n",
       "    </tr>\n",
       "  </tbody>\n",
       "</table>\n",
       "</div>"
      ],
      "text/plain": [
       "   Review_ID  Rating Year_Month     Reviewer_Location  \\\n",
       "0  670772142       4     2019-4             Australia   \n",
       "1  670682799       4     2019-5           Philippines   \n",
       "2  670623270       4     2019-4  United Arab Emirates   \n",
       "3  670607911       4     2019-4             Australia   \n",
       "4  670607296       4     2019-4        United Kingdom   \n",
       "\n",
       "                                         Review_Text               Branch  \n",
       "0  If you've ever been to Disneyland anywhere you...  Disneyland_HongKong  \n",
       "1  Its been a while since d last time we visit HK...  Disneyland_HongKong  \n",
       "2  Thanks God it wasn   t too hot or too humid wh...  Disneyland_HongKong  \n",
       "3  HK Disneyland is a great compact park. Unfortu...  Disneyland_HongKong  \n",
       "4  the location is not in the city, took around 1...  Disneyland_HongKong  "
      ]
     },
     "execution_count": 7,
     "metadata": {},
     "output_type": "execute_result"
    }
   ],
   "source": [
    "df.head()"
   ]
  },
  {
   "cell_type": "code",
   "execution_count": 8,
   "id": "8648710a",
   "metadata": {},
   "outputs": [
    {
     "data": {
      "text/html": [
       "<style type=\"text/css\">\n",
       "#T_e92b9_row0_col1 {\n",
       "  background-color: #ff0000;\n",
       "  color: #f1f1f1;\n",
       "}\n",
       "#T_e92b9_row1_col1, #T_e92b9_row2_col1 {\n",
       "  background-color: #ff5500;\n",
       "  color: #f1f1f1;\n",
       "}\n",
       "#T_e92b9_row3_col1 {\n",
       "  background-color: #ff8e00;\n",
       "  color: #f1f1f1;\n",
       "}\n",
       "#T_e92b9_row4_col1, #T_e92b9_row5_col1, #T_e92b9_row6_col1, #T_e92b9_row7_col1, #T_e92b9_row8_col1, #T_e92b9_row9_col1 {\n",
       "  background-color: #ffff00;\n",
       "  color: #000000;\n",
       "}\n",
       "</style>\n",
       "<table id=\"T_e92b9\">\n",
       "  <thead>\n",
       "    <tr>\n",
       "      <th class=\"blank level0\" >&nbsp;</th>\n",
       "      <th id=\"T_e92b9_level0_col0\" class=\"col_heading level0 col0\" >Reviewer_Location</th>\n",
       "      <th id=\"T_e92b9_level0_col1\" class=\"col_heading level0 col1\" >Rating</th>\n",
       "    </tr>\n",
       "  </thead>\n",
       "  <tbody>\n",
       "    <tr>\n",
       "      <th id=\"T_e92b9_level0_row0\" class=\"row_heading level0 row0\" >147</th>\n",
       "      <td id=\"T_e92b9_row0_col0\" class=\"data row0 col0\" >Turks and Caicos Islands</td>\n",
       "      <td id=\"T_e92b9_row0_col1\" class=\"data row0 col1\" >1.500000</td>\n",
       "    </tr>\n",
       "    <tr>\n",
       "      <th id=\"T_e92b9_level0_row1\" class=\"row_heading level0 row1\" >136</th>\n",
       "      <td id=\"T_e92b9_row1_col0\" class=\"data row1 col0\" >Suriname</td>\n",
       "      <td id=\"T_e92b9_row1_col1\" class=\"data row1 col1\" >2.000000</td>\n",
       "    </tr>\n",
       "    <tr>\n",
       "      <th id=\"T_e92b9_level0_row2\" class=\"row_heading level0 row2\" >132</th>\n",
       "      <td id=\"T_e92b9_row2_col0\" class=\"data row2 col0\" >South Sudan</td>\n",
       "      <td id=\"T_e92b9_row2_col1\" class=\"data row2 col1\" >2.000000</td>\n",
       "    </tr>\n",
       "    <tr>\n",
       "      <th id=\"T_e92b9_level0_row3\" class=\"row_heading level0 row3\" >39</th>\n",
       "      <td id=\"T_e92b9_row3_col0\" class=\"data row3 col0\" >Ecuador</td>\n",
       "      <td id=\"T_e92b9_row3_col1\" class=\"data row3 col1\" >2.333333</td>\n",
       "    </tr>\n",
       "    <tr>\n",
       "      <th id=\"T_e92b9_level0_row4\" class=\"row_heading level0 row4\" >58</th>\n",
       "      <td id=\"T_e92b9_row4_col0\" class=\"data row4 col0\" >Haiti</td>\n",
       "      <td id=\"T_e92b9_row4_col1\" class=\"data row4 col1\" >3.000000</td>\n",
       "    </tr>\n",
       "    <tr>\n",
       "      <th id=\"T_e92b9_level0_row5\" class=\"row_heading level0 row5\" >36</th>\n",
       "      <td id=\"T_e92b9_row5_col0\" class=\"data row5 col0\" >Democratic Republic of the Congo</td>\n",
       "      <td id=\"T_e92b9_row5_col1\" class=\"data row5 col1\" >3.000000</td>\n",
       "    </tr>\n",
       "    <tr>\n",
       "      <th id=\"T_e92b9_level0_row6\" class=\"row_heading level0 row6\" >128</th>\n",
       "      <td id=\"T_e92b9_row6_col0\" class=\"data row6 col0\" >Slovenia</td>\n",
       "      <td id=\"T_e92b9_row6_col1\" class=\"data row6 col1\" >3.000000</td>\n",
       "    </tr>\n",
       "    <tr>\n",
       "      <th id=\"T_e92b9_level0_row7\" class=\"row_heading level0 row7\" >107</th>\n",
       "      <td id=\"T_e92b9_row7_col0\" class=\"data row7 col0\" >Northern Mariana Islands</td>\n",
       "      <td id=\"T_e92b9_row7_col1\" class=\"data row7 col1\" >3.000000</td>\n",
       "    </tr>\n",
       "    <tr>\n",
       "      <th id=\"T_e92b9_level0_row8\" class=\"row_heading level0 row8\" >129</th>\n",
       "      <td id=\"T_e92b9_row8_col0\" class=\"data row8 col0\" >Solomon Islands</td>\n",
       "      <td id=\"T_e92b9_row8_col1\" class=\"data row8 col1\" >3.000000</td>\n",
       "    </tr>\n",
       "    <tr>\n",
       "      <th id=\"T_e92b9_level0_row9\" class=\"row_heading level0 row9\" >41</th>\n",
       "      <td id=\"T_e92b9_row9_col0\" class=\"data row9 col0\" >El Salvador</td>\n",
       "      <td id=\"T_e92b9_row9_col1\" class=\"data row9 col1\" >3.000000</td>\n",
       "    </tr>\n",
       "  </tbody>\n",
       "</table>\n"
      ],
      "text/plain": [
       "<pandas.io.formats.style.Styler at 0x1334bf760>"
      ]
     },
     "execution_count": 8,
     "metadata": {},
     "output_type": "execute_result"
    }
   ],
   "source": [
    "df2 = df.groupby(['Reviewer_Location'],as_index=False).agg({'Rating':'mean'}).sort_values(by='Rating', ascending=True).head(10)\n",
    "df2.style.background_gradient(cmap=\"autumn\", subset=['Rating'])"
   ]
  },
  {
   "cell_type": "code",
   "execution_count": 12,
   "id": "8b211d91",
   "metadata": {},
   "outputs": [],
   "source": [
    "# Create a new DataFrame with the count of each rating per year\n",
    "rating_counts = df.groupby(['year', 'Rating']).size().reset_index(name='count')\n",
    "\n",
    "# Pivot the DataFrame so that years are in the index, ratings are columns, and counts are the values\n",
    "rating_pivot = rating_counts.pivot_table(index='year', columns='Rating', values='count', fill_value=0)\n",
    "\n",
    "# Normalize the counts for each year (to get the proportion of each rating)\n",
    "rating_pivot = rating_pivot.div(rating_pivot.sum(axis=1), axis=0)"
   ]
  },
  {
   "cell_type": "code",
   "execution_count": 14,
   "id": "a4ff69f0",
   "metadata": {},
   "outputs": [
    {
     "data": {
      "image/png": "[encoded data removed]",
      "text/plain": [
       "<Figure size 1400x700 with 1 Axes>"
      ]
     },
     "metadata": {},
     "output_type": "display_data"
    }
   ],
   "source": [
    "# Plot the stacked bar chart\n",
    "ax = rating_pivot.plot(kind='bar', stacked=True, figsize=(14, 7), colormap='summer')\n",
    "plt.title(\"Rating Distribution per Year\")\n",
    "plt.xlabel(\"Year\")\n",
    "plt.ylabel(\"Proportion of Ratings\")\n",
    "plt.legend(title=\"Rating\", loc='upper left', bbox_to_anchor=(1, 1))\n",
    "plt.savefig(\"rating_year_stacked_bar_chart.png\", bbox_inches='tight', dpi=300)\n",
    "plt.show()\n"
   ]
  },
  {
   "cell_type": "code",
   "execution_count": 20,
   "id": "62caadd8",
   "metadata": {},
   "outputs": [],
   "source": [
    "from textblob import TextBlob"
   ]
  },
  {
   "cell_type": "code",
   "execution_count": 21,
   "id": "6a0a31a1",
   "metadata": {},
   "outputs": [],
   "source": [
    "polarity = []\n",
    "\n",
    "for sentence in df[\"Review_Text\"]:\n",
    "    polarity.append(TextBlob(sentence).polarity)"
   ]
  },
  {
   "cell_type": "code",
   "execution_count": 22,
   "id": "982948ed",
   "metadata": {},
   "outputs": [],
   "source": [
    "subjectivity = []\n",
    "\n",
    "for sentence in df[\"Review_Text\"]:\n",
    "    subjectivity.append(TextBlob(sentence).subjectivity)"
   ]
  },
  {
   "cell_type": "code",
   "execution_count": 23,
   "id": "8a80c72b",
   "metadata": {},
   "outputs": [],
   "source": [
    "df[\"textblob_polarity\"], df[\"textblob_subjectivity\"] = polarity, subjectivity"
   ]
  },
  {
   "cell_type": "code",
   "execution_count": 24,
   "id": "e5c2283c",
   "metadata": {},
   "outputs": [],
   "source": [
    "from vaderSentiment.vaderSentiment import SentimentIntensityAnalyzer\n",
    "analyzer = SentimentIntensityAnalyzer()"
   ]
  },
  {
   "cell_type": "code",
   "execution_count": 25,
   "id": "787acf41",
   "metadata": {},
   "outputs": [],
   "source": [
    "vs = []\n",
    "\n",
    "for sentence in df[\"Review_Text\"]:\n",
    "    vs.append(analyzer.polarity_scores(sentence))"
   ]
  },
  {
   "cell_type": "code",
   "execution_count": 26,
   "id": "1966980e",
   "metadata": {},
   "outputs": [],
   "source": [
    "df[\"vs_score\"] = vs\n",
    "df['compound'] = df['vs_score'].apply(lambda score_dict: score_dict['compound'])\n",
    "df['vs_sentiment_type']=''\n",
    "df.loc[df.compound>0,'vs_sentiment_type']='POSITIVE'\n",
    "df.loc[df.compound==0,'vs_sentiment_type']='NEUTRAL'\n",
    "df.loc[df.compound<0,'vs_sentiment_type']='NEGATIVE'"
   ]
  },
  {
   "cell_type": "code",
   "execution_count": 34,
   "id": "05b50412",
   "metadata": {},
   "outputs": [
    {
     "data": {
      "image/png": "[encoded data removed]",
      "text/plain": [
       "<Figure size 1000x600 with 1 Axes>"
      ]
     },
     "metadata": {},
     "output_type": "display_data"
    }
   ],
   "source": [
    "# Calculate the percentage of sentiment types for each branch\n",
    "sentiment_percent = df.groupby(['Branch', 'vs_sentiment_type']).size().groupby(level=0).apply(lambda x: 100 * x / x.sum()).reset_index(name='Percentage')\n",
    "\n",
    "# Create the bar plot\n",
    "plt.figure(figsize=(10, 6))\n",
    "sns.barplot(x='Branch', y='Percentage', hue='vs_sentiment_type', data=sentiment_percent, palette='summer')\n",
    "plt.title('Sentiment Distribution by Branch')\n",
    "\n",
    "# Show the plot\n",
    "plt.show()\n"
   ]
  },
  {
   "cell_type": "code",
   "execution_count": 35,
   "id": "beccb500",
   "metadata": {},
   "outputs": [
    {
     "name": "stderr",
     "output_type": "stream",
     "text": [
      "/Library/Frameworks/Python.framework/Versions/3.10/lib/python3.10/site-packages/spacy/util.py:762: UserWarning: [W095] Model 'en_core_web_sm' (3.5.0) was trained with spaCy v3.5 and may not be 100% compatible with the current version (3.1.7). If you see errors or degraded performance, download a newer compatible model or retrain your custom model with the current spaCy version. For more details and available updates, run: python -m spacy validate\n",
      "  warnings.warn(warn_msg)\n"
     ]
    }
   ],
   "source": [
    "import en_core_web_sm"
   ]
  },
  {
   "cell_type": "code",
   "execution_count": 53,
   "id": "a1572cf5",
   "metadata": {},
   "outputs": [
    {
     "name": "stdout",
     "output_type": "stream",
     "text": [
      "Requirement already satisfied: nltk in /Library/Frameworks/Python.framework/Versions/3.10/lib/python3.10/site-packages (3.8.1)\n",
      "Collecting stanza\n",
      "  Downloading stanza-1.5.0-py3-none-any.whl (802 kB)\n",
      "\u001b[2K     \u001b[90m━━━━━━━━━━━━━━━━━━━━━━━━━━━━━━━━━━━━━━━\u001b[0m \u001b[32m802.5/802.5 kB\u001b[0m \u001b[31m3.7 MB/s\u001b[0m eta \u001b[36m0:00:00\u001b[0m00:01\u001b[0m00:01\u001b[0m\n",
      "\u001b[?25hRequirement already satisfied: joblib in /Library/Frameworks/Python.framework/Versions/3.10/lib/python3.10/site-packages (from nltk) (1.2.0)\n",
      "Requirement already satisfied: click in /Library/Frameworks/Python.framework/Versions/3.10/lib/python3.10/site-packages (from nltk) (8.1.3)\n",
      "Requirement already satisfied: regex>=2021.8.3 in /Library/Frameworks/Python.framework/Versions/3.10/lib/python3.10/site-packages (from nltk) (2023.3.23)\n",
      "Requirement already satisfied: tqdm in /Library/Frameworks/Python.framework/Versions/3.10/lib/python3.10/site-packages (from nltk) (4.65.0)\n",
      "Collecting emoji\n",
      "  Downloading emoji-2.2.0.tar.gz (240 kB)\n",
      "\u001b[2K     \u001b[90m━━━━━━━━━━━━━━━━━━━━━━━━━━━━━━━━━━━━━━━\u001b[0m \u001b[32m240.9/240.9 kB\u001b[0m \u001b[31m5.5 MB/s\u001b[0m eta \u001b[36m0:00:00\u001b[0m00:01\u001b[0m\n",
      "\u001b[?25h  Preparing metadata (setup.py) ... \u001b[?25ldone\n",
      "\u001b[?25hCollecting protobuf\n",
      "  Downloading protobuf-4.22.3-cp37-abi3-macosx_10_9_universal2.whl (397 kB)\n",
      "\u001b[2K     \u001b[90m━━━━━━━━━━━━━━━━━━━━━━━━━━━━━━━━━━━━━━━\u001b[0m \u001b[32m397.2/397.2 kB\u001b[0m \u001b[31m7.2 MB/s\u001b[0m eta \u001b[36m0:00:00\u001b[0ma \u001b[36m0:00:01\u001b[0m\n",
      "\u001b[?25hRequirement already satisfied: numpy in /Library/Frameworks/Python.framework/Versions/3.10/lib/python3.10/site-packages (from stanza) (1.23.3)\n",
      "Requirement already satisfied: requests in /Library/Frameworks/Python.framework/Versions/3.10/lib/python3.10/site-packages (from stanza) (2.28.2)\n",
      "Requirement already satisfied: six in /Library/Frameworks/Python.framework/Versions/3.10/lib/python3.10/site-packages (from stanza) (1.16.0)\n",
      "Collecting torch>=1.3.0\n",
      "  Downloading torch-2.0.0-cp310-none-macosx_10_9_x86_64.whl (139.8 MB)\n",
      "\u001b[2K     \u001b[90m━━━━━━━━━━━━━━━━━━━━━━━━━━━━━━━━━━━━━\u001b[0m \u001b[32m139.8/139.8 MB\u001b[0m \u001b[31m420.0 kB/s\u001b[0m eta \u001b[36m0:00:00\u001b[0m00:01\u001b[0m00:07\u001b[0m\n",
      "\u001b[?25hCollecting networkx\n",
      "  Downloading networkx-3.1-py3-none-any.whl (2.1 MB)\n",
      "\u001b[2K     \u001b[90m━━━━━━━━━━━━━━━━━━━━━━━━━━━━━━━━━━━━━━━━\u001b[0m \u001b[32m2.1/2.1 MB\u001b[0m \u001b[31m6.1 MB/s\u001b[0m eta \u001b[36m0:00:00\u001b[0m:00:01\u001b[0m00:01\u001b[0m\n",
      "\u001b[?25hRequirement already satisfied: typing-extensions in /Library/Frameworks/Python.framework/Versions/3.10/lib/python3.10/site-packages (from torch>=1.3.0->stanza) (4.5.0)\n",
      "Collecting filelock\n",
      "  Downloading filelock-3.12.0-py3-none-any.whl (10 kB)\n",
      "Collecting sympy\n",
      "  Downloading sympy-1.11.1-py3-none-any.whl (6.5 MB)\n",
      "\u001b[2K     \u001b[90m━━━━━━━━━━━━━━━━━━━━━━━━━━━━━━━━━━━━━━━━\u001b[0m \u001b[32m6.5/6.5 MB\u001b[0m \u001b[31m1.9 MB/s\u001b[0m eta \u001b[36m0:00:00\u001b[0m00:01\u001b[0m00:01\u001b[0mm\n",
      "\u001b[?25hRequirement already satisfied: jinja2 in /Library/Frameworks/Python.framework/Versions/3.10/lib/python3.10/site-packages (from torch>=1.3.0->stanza) (3.1.2)\n",
      "Requirement already satisfied: idna<4,>=2.5 in /Library/Frameworks/Python.framework/Versions/3.10/lib/python3.10/site-packages (from requests->stanza) (3.4)\n",
      "Requirement already satisfied: urllib3<1.27,>=1.21.1 in /Library/Frameworks/Python.framework/Versions/3.10/lib/python3.10/site-packages (from requests->stanza) (1.26.14)\n",
      "Requirement already satisfied: certifi>=2017.4.17 in /Library/Frameworks/Python.framework/Versions/3.10/lib/python3.10/site-packages (from requests->stanza) (2022.12.7)\n",
      "Requirement already satisfied: charset-normalizer<4,>=2 in /Library/Frameworks/Python.framework/Versions/3.10/lib/python3.10/site-packages (from requests->stanza) (3.0.1)\n",
      "Requirement already satisfied: MarkupSafe>=2.0 in /Library/Frameworks/Python.framework/Versions/3.10/lib/python3.10/site-packages (from jinja2->torch>=1.3.0->stanza) (2.1.1)\n",
      "Collecting mpmath>=0.19\n",
      "  Downloading mpmath-1.3.0-py3-none-any.whl (536 kB)\n",
      "\u001b[2K     \u001b[90m━━━━━━━━━━━━━━━━━━━━━━━━━━━━━━━━━━━━━━━\u001b[0m \u001b[32m536.2/536.2 kB\u001b[0m \u001b[31m1.6 MB/s\u001b[0m eta \u001b[36m0:00:00\u001b[0m00:01\u001b[0m00:01\u001b[0m\n",
      "\u001b[?25hInstalling collected packages: mpmath, sympy, protobuf, networkx, filelock, emoji, torch, stanza\n",
      "\u001b[33m  DEPRECATION: emoji is being installed using the legacy 'setup.py install' method, because it does not have a 'pyproject.toml' and the 'wheel' package is not installed. pip 23.1 will enforce this behaviour change. A possible replacement is to enable the '--use-pep517' option. Discussion can be found at https://github.com/pypa/pip/issues/8559\u001b[0m\u001b[33m\n",
      "\u001b[0m  Running setup.py install for emoji ... \u001b[?25ldone\n",
      "\u001b[?25hSuccessfully installed emoji-2.2.0 filelock-3.12.0 mpmath-1.3.0 networkx-3.1 protobuf-4.22.3 stanza-1.5.0 sympy-1.11.1 torch-2.0.0\n",
      "\n",
      "\u001b[1m[\u001b[0m\u001b[34;49mnotice\u001b[0m\u001b[1;39;49m]\u001b[0m\u001b[39;49m A new release of pip available: \u001b[0m\u001b[31;49m22.3\u001b[0m\u001b[39;49m -> \u001b[0m\u001b[32;49m23.1\u001b[0m\n",
      "\u001b[1m[\u001b[0m\u001b[34;49mnotice\u001b[0m\u001b[1;39;49m]\u001b[0m\u001b[39;49m To update, run: \u001b[0m\u001b[32;49mpip install --upgrade pip\u001b[0m\n"
     ]
    }
   ],
   "source": [
    "!pip install nltk stanza"
   ]
  },
  {
   "cell_type": "code",
   "execution_count": 54,
   "id": "b66a3c39",
   "metadata": {},
   "outputs": [],
   "source": [
    "import pandas as pd\n",
    "import re\n",
    "from nltk.corpus import stopwords\n",
    "from nltk.stem.snowball import SnowballStemmer\n",
    "import nltk\n",
    "import stanza"
   ]
  },
  {
   "cell_type": "code",
   "execution_count": 55,
   "id": "2928542c",
   "metadata": {},
   "outputs": [
    {
     "name": "stderr",
     "output_type": "stream",
     "text": [
      "[nltk_data] Downloading package stopwords to\n",
      "[nltk_data]     /Users/miemie/nltk_data...\n",
      "[nltk_data]   Package stopwords is already up-to-date!\n"
     ]
    },
    {
     "data": {
      "application/vnd.jupyter.widget-view+json": {
       "model_id": "22384417f85642fe980d4e637c609e22",
       "version_major": 2,
       "version_minor": 0
      },
      "text/plain": [
       "Downloading https://raw.githubusercontent.com/stanfordnlp/stanza-resources/main/resources_1.5.0.json:   0%|   …"
      ]
     },
     "metadata": {},
     "output_type": "display_data"
    },
    {
     "name": "stderr",
     "output_type": "stream",
     "text": [
      "2023-04-24 19:07:04 INFO: Downloading default packages for language: en (English) ...\n"
     ]
    },
    {
     "data": {
      "application/vnd.jupyter.widget-view+json": {
       "model_id": "6c52107e921044f28ef335e1e4d7f0c5",
       "version_major": 2,
       "version_minor": 0
      },
      "text/plain": [
       "Downloading https://huggingface.co/stanfordnlp/stanza-en/resolve/v1.5.0/models/default.zip:   0%|          | 0…"
      ]
     },
     "metadata": {},
     "output_type": "display_data"
    },
    {
     "name": "stderr",
     "output_type": "stream",
     "text": [
      "2023-04-24 19:22:53 INFO: Finished downloading models and saved to /Users/miemie/stanza_resources.\n"
     ]
    }
   ],
   "source": [
    "nltk.download('stopwords')\n",
    "stanza.download('en')"
   ]
  },
  {
   "cell_type": "code",
   "execution_count": 56,
   "id": "0cf0cf04",
   "metadata": {},
   "outputs": [],
   "source": [
    "# Use SnowballStemmer\n",
    "s_stemmer = SnowballStemmer(language='english')\n",
    "stem = [s_stemmer.stem(word) for word in lines2]\n"
   ]
  },
  {
   "cell_type": "code",
   "execution_count": 57,
   "id": "622e1791",
   "metadata": {},
   "outputs": [],
   "source": [
    "# Remove stopwords using nltk's stopwords\n",
    "stop_words = set(stopwords.words('english'))\n",
    "stem2 = [word for word in stem if word.lower() not in stop_words]"
   ]
  },
  {
   "cell_type": "code",
   "execution_count": 58,
   "id": "e1356ac6",
   "metadata": {},
   "outputs": [],
   "source": [
    "# Create a DataFrame and count the occurrences\n",
    "df2 = pd.DataFrame(stem2)\n",
    "df2 = df2[0].value_counts()\n"
   ]
  },
  {
   "cell_type": "code",
   "execution_count": 59,
   "id": "c22a3452",
   "metadata": {},
   "outputs": [],
   "source": [
    "# Keep the top 20 words\n",
    "df2 = df2[:20]\n"
   ]
  },
  {
   "cell_type": "code",
   "execution_count": 60,
   "id": "366f8287",
   "metadata": {},
   "outputs": [
    {
     "name": "stderr",
     "output_type": "stream",
     "text": [
      "2023-04-24 19:23:48 INFO: Checking for updates to resources.json in case models have been updated.  Note: this behavior can be turned off with download_method=None or download_method=DownloadMethod.REUSE_RESOURCES\n"
     ]
    },
    {
     "data": {
      "application/vnd.jupyter.widget-view+json": {
       "model_id": "aa454287727748bc962d240c3c457b74",
       "version_major": 2,
       "version_minor": 0
      },
      "text/plain": [
       "Downloading https://raw.githubusercontent.com/stanfordnlp/stanza-resources/main/resources_1.5.0.json:   0%|   …"
      ]
     },
     "metadata": {},
     "output_type": "display_data"
    },
    {
     "name": "stderr",
     "output_type": "stream",
     "text": [
      "2023-04-24 19:23:50 INFO: Loading these models for language: en (English):\n",
      "=========================\n",
      "| Processor | Package   |\n",
      "-------------------------\n",
      "| tokenize  | combined  |\n",
      "| ner       | ontonotes |\n",
      "=========================\n",
      "\n",
      "2023-04-24 19:23:50 INFO: Using device: cpu\n",
      "2023-04-24 19:23:50 INFO: Loading: tokenize\n",
      "2023-04-24 19:23:50 INFO: Loading: ner\n",
      "2023-04-24 19:23:51 INFO: Done loading processors!\n"
     ]
    }
   ],
   "source": [
    "# Named Entity Recognition using stanza\n",
    "nlp = stanza.Pipeline('en', processors='tokenize,ner')\n"
   ]
  },
  {
   "cell_type": "code",
   "execution_count": 61,
   "id": "09410471",
   "metadata": {},
   "outputs": [],
   "source": [
    "# Join the lines2 list into a single string\n",
    "str1 = \" \"\n",
    "stem2_str = str1.join(lines2)\n"
   ]
  },
  {
   "cell_type": "code",
   "execution_count": 62,
   "id": "3de26963",
   "metadata": {},
   "outputs": [
    {
     "ename": "KeyboardInterrupt",
     "evalue": "",
     "output_type": "error",
     "traceback": [
      "\u001b[0;31m---------------------------------------------------------------------------\u001b[0m",
      "\u001b[0;31mKeyboardInterrupt\u001b[0m                         Traceback (most recent call last)",
      "Cell \u001b[0;32mIn [62], line 2\u001b[0m\n\u001b[1;32m      1\u001b[0m \u001b[38;5;66;03m# Perform NER\u001b[39;00m\n\u001b[0;32m----> 2\u001b[0m doc \u001b[38;5;241m=\u001b[39m \u001b[43mnlp\u001b[49m\u001b[43m(\u001b[49m\u001b[43mstem2_str\u001b[49m\u001b[43m)\u001b[49m\n\u001b[1;32m      4\u001b[0m \u001b[38;5;66;03m# Extract entities and their labels\u001b[39;00m\n\u001b[1;32m      5\u001b[0m label \u001b[38;5;241m=\u001b[39m [(ent\u001b[38;5;241m.\u001b[39mtext, ent\u001b[38;5;241m.\u001b[39mtype) \u001b[38;5;28;01mfor\u001b[39;00m sent \u001b[38;5;129;01min\u001b[39;00m doc\u001b[38;5;241m.\u001b[39msentences \u001b[38;5;28;01mfor\u001b[39;00m ent \u001b[38;5;129;01min\u001b[39;00m sent\u001b[38;5;241m.\u001b[39ments]\n",
      "File \u001b[0;32m/Library/Frameworks/Python.framework/Versions/3.10/lib/python3.10/site-packages/stanza/pipeline/core.py:464\u001b[0m, in \u001b[0;36mPipeline.__call__\u001b[0;34m(self, doc, processors)\u001b[0m\n\u001b[1;32m    463\u001b[0m \u001b[38;5;28;01mdef\u001b[39;00m \u001b[38;5;21m__call__\u001b[39m(\u001b[38;5;28mself\u001b[39m, doc, processors\u001b[38;5;241m=\u001b[39m\u001b[38;5;28;01mNone\u001b[39;00m):\n\u001b[0;32m--> 464\u001b[0m     \u001b[38;5;28;01mreturn\u001b[39;00m \u001b[38;5;28;43mself\u001b[39;49m\u001b[38;5;241;43m.\u001b[39;49m\u001b[43mprocess\u001b[49m\u001b[43m(\u001b[49m\u001b[43mdoc\u001b[49m\u001b[43m,\u001b[49m\u001b[43m \u001b[49m\u001b[43mprocessors\u001b[49m\u001b[43m)\u001b[49m\n",
      "File \u001b[0;32m/Library/Frameworks/Python.framework/Versions/3.10/lib/python3.10/site-packages/stanza/pipeline/core.py:415\u001b[0m, in \u001b[0;36mPipeline.process\u001b[0;34m(self, doc, processors)\u001b[0m\n\u001b[1;32m    413\u001b[0m     \u001b[38;5;28;01mif\u001b[39;00m \u001b[38;5;28mself\u001b[39m\u001b[38;5;241m.\u001b[39mprocessors\u001b[38;5;241m.\u001b[39mget(processor_name):\n\u001b[1;32m    414\u001b[0m         process \u001b[38;5;241m=\u001b[39m \u001b[38;5;28mself\u001b[39m\u001b[38;5;241m.\u001b[39mprocessors[processor_name]\u001b[38;5;241m.\u001b[39mbulk_process \u001b[38;5;28;01mif\u001b[39;00m bulk \u001b[38;5;28;01melse\u001b[39;00m \u001b[38;5;28mself\u001b[39m\u001b[38;5;241m.\u001b[39mprocessors[processor_name]\u001b[38;5;241m.\u001b[39mprocess\n\u001b[0;32m--> 415\u001b[0m         doc \u001b[38;5;241m=\u001b[39m \u001b[43mprocess\u001b[49m\u001b[43m(\u001b[49m\u001b[43mdoc\u001b[49m\u001b[43m)\u001b[49m\n\u001b[1;32m    416\u001b[0m \u001b[38;5;28;01mreturn\u001b[39;00m doc\n",
      "File \u001b[0;32m/Library/Frameworks/Python.framework/Versions/3.10/lib/python3.10/site-packages/stanza/pipeline/tokenize_processor.py:90\u001b[0m, in \u001b[0;36mTokenizeProcessor.process\u001b[0;34m(self, document)\u001b[0m\n\u001b[1;32m     88\u001b[0m batches \u001b[38;5;241m=\u001b[39m TokenizationDataset(\u001b[38;5;28mself\u001b[39m\u001b[38;5;241m.\u001b[39mconfig, input_text\u001b[38;5;241m=\u001b[39mraw_text, vocab\u001b[38;5;241m=\u001b[39m\u001b[38;5;28mself\u001b[39m\u001b[38;5;241m.\u001b[39mvocab, evaluation\u001b[38;5;241m=\u001b[39m\u001b[38;5;28;01mTrue\u001b[39;00m, dictionary\u001b[38;5;241m=\u001b[39m\u001b[38;5;28mself\u001b[39m\u001b[38;5;241m.\u001b[39mtrainer\u001b[38;5;241m.\u001b[39mdictionary)\n\u001b[1;32m     89\u001b[0m \u001b[38;5;66;03m# get dict data\u001b[39;00m\n\u001b[0;32m---> 90\u001b[0m _, _, _, document \u001b[38;5;241m=\u001b[39m \u001b[43moutput_predictions\u001b[49m\u001b[43m(\u001b[49m\u001b[38;5;28;43;01mNone\u001b[39;49;00m\u001b[43m,\u001b[49m\u001b[43m \u001b[49m\u001b[38;5;28;43mself\u001b[39;49m\u001b[38;5;241;43m.\u001b[39;49m\u001b[43mtrainer\u001b[49m\u001b[43m,\u001b[49m\u001b[43m \u001b[49m\u001b[43mbatches\u001b[49m\u001b[43m,\u001b[49m\u001b[43m \u001b[49m\u001b[38;5;28;43mself\u001b[39;49m\u001b[38;5;241;43m.\u001b[39;49m\u001b[43mvocab\u001b[49m\u001b[43m,\u001b[49m\u001b[43m \u001b[49m\u001b[38;5;28;43;01mNone\u001b[39;49;00m\u001b[43m,\u001b[49m\n\u001b[1;32m     91\u001b[0m \u001b[43m                                       \u001b[49m\u001b[43mmax_seq_len\u001b[49m\u001b[43m,\u001b[49m\n\u001b[1;32m     92\u001b[0m \u001b[43m                                       \u001b[49m\u001b[43morig_text\u001b[49m\u001b[38;5;241;43m=\u001b[39;49m\u001b[43mraw_text\u001b[49m\u001b[43m,\u001b[49m\n\u001b[1;32m     93\u001b[0m \u001b[43m                                       \u001b[49m\u001b[43mno_ssplit\u001b[49m\u001b[38;5;241;43m=\u001b[39;49m\u001b[38;5;28;43mself\u001b[39;49m\u001b[38;5;241;43m.\u001b[39;49m\u001b[43mconfig\u001b[49m\u001b[38;5;241;43m.\u001b[39;49m\u001b[43mget\u001b[49m\u001b[43m(\u001b[49m\u001b[38;5;124;43m'\u001b[39;49m\u001b[38;5;124;43mno_ssplit\u001b[39;49m\u001b[38;5;124;43m'\u001b[39;49m\u001b[43m,\u001b[49m\u001b[43m \u001b[49m\u001b[38;5;28;43;01mFalse\u001b[39;49;00m\u001b[43m)\u001b[49m\u001b[43m,\u001b[49m\n\u001b[1;32m     94\u001b[0m \u001b[43m                                       \u001b[49m\u001b[43mnum_workers\u001b[49m\u001b[43m \u001b[49m\u001b[38;5;241;43m=\u001b[39;49m\u001b[43m \u001b[49m\u001b[38;5;28;43mself\u001b[39;49m\u001b[38;5;241;43m.\u001b[39;49m\u001b[43mconfig\u001b[49m\u001b[38;5;241;43m.\u001b[39;49m\u001b[43mget\u001b[49m\u001b[43m(\u001b[49m\u001b[38;5;124;43m'\u001b[39;49m\u001b[38;5;124;43mnum_workers\u001b[39;49m\u001b[38;5;124;43m'\u001b[39;49m\u001b[43m,\u001b[49m\u001b[43m \u001b[49m\u001b[38;5;241;43m0\u001b[39;49m\u001b[43m)\u001b[49m\u001b[43m)\u001b[49m\n\u001b[1;32m     96\u001b[0m \u001b[38;5;66;03m# replace excessively long tokens with <UNK> to avoid downstream GPU memory issues in POS\u001b[39;00m\n\u001b[1;32m     97\u001b[0m \u001b[38;5;28;01mfor\u001b[39;00m sentence \u001b[38;5;129;01min\u001b[39;00m document:\n",
      "File \u001b[0;32m/Library/Frameworks/Python.framework/Versions/3.10/lib/python3.10/site-packages/stanza/models/tokenization/utils.py:323\u001b[0m, in \u001b[0;36moutput_predictions\u001b[0;34m(output_file, trainer, data_generator, vocab, mwt_dict, max_seqlen, orig_text, no_ssplit, use_regex_tokens, num_workers)\u001b[0m\n\u001b[1;32m    320\u001b[0m batch_size \u001b[38;5;241m=\u001b[39m trainer\u001b[38;5;241m.\u001b[39margs[\u001b[38;5;124m'\u001b[39m\u001b[38;5;124mbatch_size\u001b[39m\u001b[38;5;124m'\u001b[39m]\n\u001b[1;32m    321\u001b[0m max_seqlen \u001b[38;5;241m=\u001b[39m \u001b[38;5;28mmax\u001b[39m(\u001b[38;5;241m1000\u001b[39m, max_seqlen)\n\u001b[0;32m--> 323\u001b[0m all_preds, all_raw \u001b[38;5;241m=\u001b[39m \u001b[43mpredict\u001b[49m\u001b[43m(\u001b[49m\u001b[43mtrainer\u001b[49m\u001b[43m,\u001b[49m\u001b[43m \u001b[49m\u001b[43mdata_generator\u001b[49m\u001b[43m,\u001b[49m\u001b[43m \u001b[49m\u001b[43mbatch_size\u001b[49m\u001b[43m,\u001b[49m\u001b[43m \u001b[49m\u001b[43mmax_seqlen\u001b[49m\u001b[43m,\u001b[49m\u001b[43m \u001b[49m\u001b[43muse_regex_tokens\u001b[49m\u001b[43m,\u001b[49m\u001b[43m \u001b[49m\u001b[43mnum_workers\u001b[49m\u001b[43m)\u001b[49m\n\u001b[1;32m    325\u001b[0m use_la_ittb_shorthand \u001b[38;5;241m=\u001b[39m trainer\u001b[38;5;241m.\u001b[39margs[\u001b[38;5;124m'\u001b[39m\u001b[38;5;124mshorthand\u001b[39m\u001b[38;5;124m'\u001b[39m] \u001b[38;5;241m==\u001b[39m \u001b[38;5;124m'\u001b[39m\u001b[38;5;124mla_ittb\u001b[39m\u001b[38;5;124m'\u001b[39m\n\u001b[1;32m    326\u001b[0m skip_newline \u001b[38;5;241m=\u001b[39m trainer\u001b[38;5;241m.\u001b[39margs[\u001b[38;5;124m'\u001b[39m\u001b[38;5;124mskip_newline\u001b[39m\u001b[38;5;124m'\u001b[39m]\n",
      "File \u001b[0;32m/Library/Frameworks/Python.framework/Versions/3.10/lib/python3.10/site-packages/stanza/models/tokenization/utils.py:277\u001b[0m, in \u001b[0;36mpredict\u001b[0;34m(trainer, data_generator, batch_size, max_seqlen, use_regex_tokens, num_workers)\u001b[0m\n\u001b[1;32m    275\u001b[0m en \u001b[38;5;241m=\u001b[39m \u001b[38;5;28mmax\u001b[39m(ens)\n\u001b[1;32m    276\u001b[0m batch1 \u001b[38;5;241m=\u001b[39m batch[\u001b[38;5;241m0\u001b[39m][:, :en], batch[\u001b[38;5;241m1\u001b[39m][:, :en], batch[\u001b[38;5;241m2\u001b[39m][:, :en], [x[:en] \u001b[38;5;28;01mfor\u001b[39;00m x \u001b[38;5;129;01min\u001b[39;00m batch[\u001b[38;5;241m3\u001b[39m]]\n\u001b[0;32m--> 277\u001b[0m pred1 \u001b[38;5;241m=\u001b[39m np\u001b[38;5;241m.\u001b[39margmax(\u001b[43mtrainer\u001b[49m\u001b[38;5;241;43m.\u001b[39;49m\u001b[43mpredict\u001b[49m\u001b[43m(\u001b[49m\u001b[43mbatch1\u001b[49m\u001b[43m)\u001b[49m, axis\u001b[38;5;241m=\u001b[39m\u001b[38;5;241m2\u001b[39m)\n\u001b[1;32m    279\u001b[0m \u001b[38;5;28;01mfor\u001b[39;00m j \u001b[38;5;129;01min\u001b[39;00m \u001b[38;5;28mrange\u001b[39m(num_sentences):\n\u001b[1;32m    280\u001b[0m     sentbreaks \u001b[38;5;241m=\u001b[39m np\u001b[38;5;241m.\u001b[39mwhere((pred1[j] \u001b[38;5;241m==\u001b[39m \u001b[38;5;241m2\u001b[39m) \u001b[38;5;241m+\u001b[39m (pred1[j] \u001b[38;5;241m==\u001b[39m \u001b[38;5;241m4\u001b[39m))[\u001b[38;5;241m0\u001b[39m]\n",
      "File \u001b[0;32m/Library/Frameworks/Python.framework/Versions/3.10/lib/python3.10/site-packages/stanza/models/tokenization/trainer.py:55\u001b[0m, in \u001b[0;36mTrainer.predict\u001b[0;34m(self, inputs)\u001b[0m\n\u001b[1;32m     51\u001b[0m     \u001b[38;5;28mself\u001b[39m\u001b[38;5;241m.\u001b[39moptimizer\u001b[38;5;241m.\u001b[39mstep()\n\u001b[1;32m     53\u001b[0m     \u001b[38;5;28;01mreturn\u001b[39;00m loss\u001b[38;5;241m.\u001b[39mitem()\n\u001b[0;32m---> 55\u001b[0m \u001b[38;5;28;01mdef\u001b[39;00m \u001b[38;5;21mpredict\u001b[39m(\u001b[38;5;28mself\u001b[39m, inputs):\n\u001b[1;32m     56\u001b[0m     \u001b[38;5;28mself\u001b[39m\u001b[38;5;241m.\u001b[39mmodel\u001b[38;5;241m.\u001b[39meval()\n\u001b[1;32m     57\u001b[0m     units, _, features, _ \u001b[38;5;241m=\u001b[39m inputs\n",
      "\u001b[0;31mKeyboardInterrupt\u001b[0m: "
     ]
    }
   ],
   "source": [
    "# Perform NER\n",
    "doc = nlp(stem2_str)\n",
    "\n",
    "# Extract entities and their labels\n",
    "label = [(ent.text, ent.type) for sent in doc.sentences for ent in sent.ents]\n"
   ]
  },
  {
   "cell_type": "code",
   "execution_count": 63,
   "id": "674ab643",
   "metadata": {},
   "outputs": [],
   "source": [
    "import pandas as pd\n",
    "import re\n",
    "from nltk.corpus import stopwords\n",
    "from nltk.stem.snowball import SnowballStemmer\n",
    "import nltk"
   ]
  },
  {
   "cell_type": "code",
   "execution_count": 64,
   "id": "a4e8d006",
   "metadata": {},
   "outputs": [
    {
     "name": "stderr",
     "output_type": "stream",
     "text": [
      "[nltk_data] Downloading package stopwords to\n",
      "[nltk_data]     /Users/miemie/nltk_data...\n",
      "[nltk_data]   Package stopwords is already up-to-date!\n",
      "[nltk_data] Downloading package punkt to /Users/miemie/nltk_data...\n",
      "[nltk_data]   Package punkt is already up-to-date!\n",
      "[nltk_data] Downloading package averaged_perceptron_tagger to\n",
      "[nltk_data]     /Users/miemie/nltk_data...\n",
      "[nltk_data]   Unzipping taggers/averaged_perceptron_tagger.zip.\n",
      "[nltk_data] Downloading package maxent_ne_chunker to\n",
      "[nltk_data]     /Users/miemie/nltk_data...\n",
      "[nltk_data]   Unzipping chunkers/maxent_ne_chunker.zip.\n",
      "[nltk_data] Downloading package words to /Users/miemie/nltk_data...\n",
      "[nltk_data]   Unzipping corpora/words.zip.\n"
     ]
    },
    {
     "data": {
      "text/plain": [
       "True"
      ]
     },
     "execution_count": 64,
     "metadata": {},
     "output_type": "execute_result"
    }
   ],
   "source": [
    "nltk.download('stopwords')\n",
    "nltk.download('punkt')\n",
    "nltk.download('averaged_perceptron_tagger')\n",
    "nltk.download('maxent_ne_chunker')\n",
    "nltk.download('words')"
   ]
  },
  {
   "cell_type": "code",
   "execution_count": 65,
   "id": "ccd5edd5",
   "metadata": {},
   "outputs": [],
   "source": [
    "# Use SnowballStemmer\n",
    "s_stemmer = SnowballStemmer(language='english')\n",
    "stem = [s_stemmer.stem(word) for word in lines2]"
   ]
  },
  {
   "cell_type": "code",
   "execution_count": 66,
   "id": "6506e233",
   "metadata": {},
   "outputs": [],
   "source": [
    "# Remove stopwords using nltk's stopwords\n",
    "stop_words = set(stopwords.words('english'))\n",
    "stem2 = [word for word in stem if word.lower() not in stop_words]\n"
   ]
  },
  {
   "cell_type": "code",
   "execution_count": 67,
   "id": "866b9988",
   "metadata": {},
   "outputs": [],
   "source": [
    "# Create a DataFrame and count the occurrences\n",
    "df2 = pd.DataFrame(stem2)\n",
    "df2 = df2[0].value_counts()"
   ]
  },
  {
   "cell_type": "code",
   "execution_count": 68,
   "id": "e3c1dc01",
   "metadata": {},
   "outputs": [],
   "source": [
    "# Keep the top 20 words\n",
    "df2 = df2[:20]"
   ]
  },
  {
   "cell_type": "code",
   "execution_count": 69,
   "id": "a5a512c8",
   "metadata": {},
   "outputs": [],
   "source": [
    "# Named Entity Recognition using nltk\n",
    "stem2_str = ' '.join(lines2)\n",
    "tokens = nltk.word_tokenize(stem2_str)\n",
    "tagged = nltk.pos_tag(tokens)\n",
    "entities = nltk.ne_chunk(tagged)"
   ]
  },
  {
   "cell_type": "code",
   "execution_count": 70,
   "id": "f69759b0",
   "metadata": {},
   "outputs": [],
   "source": [
    "# Extract entities and their labels\n",
    "label = [(entity[0][0], entity.label()) for entity in entities if hasattr(entity, 'label')]"
   ]
  },
  {
   "cell_type": "code",
   "execution_count": 78,
   "id": "7c173f01",
   "metadata": {},
   "outputs": [],
   "source": [
    "# Create a DataFrame with the entities\n",
    "df6 = pd.DataFrame(label, columns=['Word', 'Entity'])"
   ]
  },
  {
   "cell_type": "code",
   "execution_count": 83,
   "id": "2e1cc643",
   "metadata": {},
   "outputs": [],
   "source": [
    "TIME = df6.query(\"Entity == 'Time'\")\n",
    "TIME = TIME['Word'].value_counts()"
   ]
  },
  {
   "cell_type": "code",
   "execution_count": 84,
   "id": "2af35e9f",
   "metadata": {},
   "outputs": [],
   "source": [
    "# Keep the top 10 words\n",
    "TIME = TIME[:10]\n"
   ]
  },
  {
   "cell_type": "code",
   "execution_count": 85,
   "id": "2b07fead",
   "metadata": {},
   "outputs": [
    {
     "name": "stdout",
     "output_type": "stream",
     "text": [
      "No time-related words found.\n"
     ]
    }
   ],
   "source": [
    "if not TIME.empty:\n",
    "    # Plot the bar chart\n",
    "    sns.set_style(\"darkgrid\")\n",
    "    plt.figure(figsize=(14, 5))\n",
    "    sns.barplot(x=TIME.index, y=TIME.values, alpha=0.8, palette=\"coolwarm\")\n",
    "    plt.title('Time Words in Negative Reviews', fontsize=15)\n",
    "    plt.show()\n",
    "else:\n",
    "    print(\"No time-related words found.\")"
   ]
  },
  {
   "cell_type": "code",
   "execution_count": 82,
   "id": "6324582e",
   "metadata": {},
   "outputs": [
    {
     "data": {
      "image/png": "[encoded data removed]",
      "text/plain": [
       "<Figure size 1400x500 with 1 Axes>"
      ]
     },
     "metadata": {},
     "output_type": "display_data"
    }
   ],
   "source": [
    "# Filter organization-related words\n",
    "ORG = df6.query(\"Entity == 'ORGANIZATION'\")\n",
    "ORG = ORG['Word'].value_counts()\n",
    "\n",
    "# Keep the top 10 words\n",
    "ORG = ORG[:10]\n",
    "\n",
    "if not ORG.empty:\n",
    "    # Plot the bar chart\n",
    "    sns.set_style(\"darkgrid\")\n",
    "    plt.figure(figsize=(14, 5))\n",
    "    sns.barplot(x=ORG.index, y=ORG.values, alpha=0.8, palette=\"coolwarm\")\n",
    "    plt.title('Organization Words in Negative Reviews', fontsize=15)\n",
    "    plt.show()\n",
    "else:\n",
    "    print(\"No organization-related words found.\")"
   ]
  },
  {
   "cell_type": "code",
   "execution_count": null,
   "id": "14325ecf",
   "metadata": {},
   "outputs": [],
   "source": []
  }
 ],
 "metadata": {
  "kernelspec": {
   "display_name": "Python 3 (ipykernel)",
   "language": "python",
   "name": "python3"
  },
  "language_info": {
   "codemirror_mode": {
    "name": "ipython",
    "version": 3
   },
   "file_extension": ".py",
   "mimetype": "text/x-python",
   "name": "python",
   "nbconvert_exporter": "python",
   "pygments_lexer": "ipython3",
   "version": "3.10.7"
  }
 },
 "nbformat": 4,
 "nbformat_minor": 5
}
