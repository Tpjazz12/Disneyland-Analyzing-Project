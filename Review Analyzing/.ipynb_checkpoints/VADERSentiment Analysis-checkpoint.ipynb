{
 "cells": [
  {
   "cell_type": "code",
   "execution_count": 1,
   "id": "18b9a161",
   "metadata": {},
   "outputs": [],
   "source": [
    "import pandas as pd\n",
    "import numpy as np\n",
    "import os\n"
   ]
  },
  {
   "cell_type": "code",
   "execution_count": 2,
   "id": "5d8438bf",
   "metadata": {},
   "outputs": [
    {
     "data": {
      "text/plain": [
       "'/mnt/c/c/users/pragn/DATA3480/Group_Project/Disneyland-Analyzing-Project/Review Analyzing'"
      ]
     },
     "execution_count": 2,
     "metadata": {},
     "output_type": "execute_result"
    }
   ],
   "source": [
    "pwd"
   ]
  },
  {
   "cell_type": "code",
   "execution_count": 3,
   "id": "0704c64a",
   "metadata": {},
   "outputs": [],
   "source": [
    "df = pd.read_csv(\"DisneylandReviews.csv\", encoding='latin1')"
   ]
  },
  {
   "cell_type": "code",
   "execution_count": 4,
   "id": "830d573a",
   "metadata": {},
   "outputs": [
    {
     "data": {
      "text/html": [
       "<div>\n",
       "<style scoped>\n",
       "    .dataframe tbody tr th:only-of-type {\n",
       "        vertical-align: middle;\n",
       "    }\n",
       "\n",
       "    .dataframe tbody tr th {\n",
       "        vertical-align: top;\n",
       "    }\n",
       "\n",
       "    .dataframe thead th {\n",
       "        text-align: right;\n",
       "    }\n",
       "</style>\n",
       "<table border=\"1\" class=\"dataframe\">\n",
       "  <thead>\n",
       "    <tr style=\"text-align: right;\">\n",
       "      <th></th>\n",
       "      <th>Review_ID</th>\n",
       "      <th>Rating</th>\n",
       "      <th>Year_Month</th>\n",
       "      <th>Reviewer_Location</th>\n",
       "      <th>Review_Text</th>\n",
       "      <th>Branch</th>\n",
       "    </tr>\n",
       "  </thead>\n",
       "  <tbody>\n",
       "    <tr>\n",
       "      <th>0</th>\n",
       "      <td>670772142</td>\n",
       "      <td>4</td>\n",
       "      <td>2019-4</td>\n",
       "      <td>Australia</td>\n",
       "      <td>If you've ever been to Disneyland anywhere you...</td>\n",
       "      <td>Disneyland_HongKong</td>\n",
       "    </tr>\n",
       "    <tr>\n",
       "      <th>1</th>\n",
       "      <td>670682799</td>\n",
       "      <td>4</td>\n",
       "      <td>2019-5</td>\n",
       "      <td>Philippines</td>\n",
       "      <td>Its been a while since d last time we visit HK...</td>\n",
       "      <td>Disneyland_HongKong</td>\n",
       "    </tr>\n",
       "    <tr>\n",
       "      <th>2</th>\n",
       "      <td>670623270</td>\n",
       "      <td>4</td>\n",
       "      <td>2019-4</td>\n",
       "      <td>United Arab Emirates</td>\n",
       "      <td>Thanks God it wasn   t too hot or too humid wh...</td>\n",
       "      <td>Disneyland_HongKong</td>\n",
       "    </tr>\n",
       "    <tr>\n",
       "      <th>3</th>\n",
       "      <td>670607911</td>\n",
       "      <td>4</td>\n",
       "      <td>2019-4</td>\n",
       "      <td>Australia</td>\n",
       "      <td>HK Disneyland is a great compact park. Unfortu...</td>\n",
       "      <td>Disneyland_HongKong</td>\n",
       "    </tr>\n",
       "    <tr>\n",
       "      <th>4</th>\n",
       "      <td>670607296</td>\n",
       "      <td>4</td>\n",
       "      <td>2019-4</td>\n",
       "      <td>United Kingdom</td>\n",
       "      <td>the location is not in the city, took around 1...</td>\n",
       "      <td>Disneyland_HongKong</td>\n",
       "    </tr>\n",
       "    <tr>\n",
       "      <th>...</th>\n",
       "      <td>...</td>\n",
       "      <td>...</td>\n",
       "      <td>...</td>\n",
       "      <td>...</td>\n",
       "      <td>...</td>\n",
       "      <td>...</td>\n",
       "    </tr>\n",
       "    <tr>\n",
       "      <th>42651</th>\n",
       "      <td>1765031</td>\n",
       "      <td>5</td>\n",
       "      <td>missing</td>\n",
       "      <td>United Kingdom</td>\n",
       "      <td>i went to disneyland paris in july 03 and thou...</td>\n",
       "      <td>Disneyland_Paris</td>\n",
       "    </tr>\n",
       "    <tr>\n",
       "      <th>42652</th>\n",
       "      <td>1659553</td>\n",
       "      <td>5</td>\n",
       "      <td>missing</td>\n",
       "      <td>Canada</td>\n",
       "      <td>2 adults and 1 child of 11 visited Disneyland ...</td>\n",
       "      <td>Disneyland_Paris</td>\n",
       "    </tr>\n",
       "    <tr>\n",
       "      <th>42653</th>\n",
       "      <td>1645894</td>\n",
       "      <td>5</td>\n",
       "      <td>missing</td>\n",
       "      <td>South Africa</td>\n",
       "      <td>My eleven year old daughter and myself went to...</td>\n",
       "      <td>Disneyland_Paris</td>\n",
       "    </tr>\n",
       "    <tr>\n",
       "      <th>42654</th>\n",
       "      <td>1618637</td>\n",
       "      <td>4</td>\n",
       "      <td>missing</td>\n",
       "      <td>United States</td>\n",
       "      <td>This hotel, part of the Disneyland Paris compl...</td>\n",
       "      <td>Disneyland_Paris</td>\n",
       "    </tr>\n",
       "    <tr>\n",
       "      <th>42655</th>\n",
       "      <td>1536786</td>\n",
       "      <td>4</td>\n",
       "      <td>missing</td>\n",
       "      <td>United Kingdom</td>\n",
       "      <td>I went to the Disneyparis resort, in 1996, wit...</td>\n",
       "      <td>Disneyland_Paris</td>\n",
       "    </tr>\n",
       "  </tbody>\n",
       "</table>\n",
       "<p>42656 rows × 6 columns</p>\n",
       "</div>"
      ],
      "text/plain": [
       "       Review_ID  Rating Year_Month     Reviewer_Location  \\\n",
       "0      670772142       4     2019-4             Australia   \n",
       "1      670682799       4     2019-5           Philippines   \n",
       "2      670623270       4     2019-4  United Arab Emirates   \n",
       "3      670607911       4     2019-4             Australia   \n",
       "4      670607296       4     2019-4        United Kingdom   \n",
       "...          ...     ...        ...                   ...   \n",
       "42651    1765031       5    missing        United Kingdom   \n",
       "42652    1659553       5    missing                Canada   \n",
       "42653    1645894       5    missing          South Africa   \n",
       "42654    1618637       4    missing         United States   \n",
       "42655    1536786       4    missing        United Kingdom   \n",
       "\n",
       "                                             Review_Text               Branch  \n",
       "0      If you've ever been to Disneyland anywhere you...  Disneyland_HongKong  \n",
       "1      Its been a while since d last time we visit HK...  Disneyland_HongKong  \n",
       "2      Thanks God it wasn   t too hot or too humid wh...  Disneyland_HongKong  \n",
       "3      HK Disneyland is a great compact park. Unfortu...  Disneyland_HongKong  \n",
       "4      the location is not in the city, took around 1...  Disneyland_HongKong  \n",
       "...                                                  ...                  ...  \n",
       "42651  i went to disneyland paris in july 03 and thou...     Disneyland_Paris  \n",
       "42652  2 adults and 1 child of 11 visited Disneyland ...     Disneyland_Paris  \n",
       "42653  My eleven year old daughter and myself went to...     Disneyland_Paris  \n",
       "42654  This hotel, part of the Disneyland Paris compl...     Disneyland_Paris  \n",
       "42655  I went to the Disneyparis resort, in 1996, wit...     Disneyland_Paris  \n",
       "\n",
       "[42656 rows x 6 columns]"
      ]
     },
     "execution_count": 4,
     "metadata": {},
     "output_type": "execute_result"
    }
   ],
   "source": [
    "df"
   ]
  },
  {
   "cell_type": "code",
   "execution_count": null,
   "id": "ca107718",
   "metadata": {},
   "outputs": [],
   "source": []
  },
  {
   "cell_type": "code",
   "execution_count": 5,
   "id": "54b20b0a",
   "metadata": {},
   "outputs": [
    {
     "name": "stdout",
     "output_type": "stream",
     "text": [
      "<class 'pandas.core.frame.DataFrame'>\n",
      "RangeIndex: 42656 entries, 0 to 42655\n",
      "Data columns (total 6 columns):\n",
      " #   Column             Non-Null Count  Dtype \n",
      "---  ------             --------------  ----- \n",
      " 0   Review_ID          42656 non-null  int64 \n",
      " 1   Rating             42656 non-null  int64 \n",
      " 2   Year_Month         42656 non-null  object\n",
      " 3   Reviewer_Location  42656 non-null  object\n",
      " 4   Review_Text        42656 non-null  object\n",
      " 5   Branch             42656 non-null  object\n",
      "dtypes: int64(2), object(4)\n",
      "memory usage: 2.0+ MB\n"
     ]
    }
   ],
   "source": [
    "df.info()"
   ]
  },
  {
   "cell_type": "markdown",
   "id": "5f46b17a",
   "metadata": {},
   "source": [
    "# Sentiment Analysis"
   ]
  },
  {
   "cell_type": "markdown",
   "id": "bb64e339",
   "metadata": {},
   "source": [
    "## Textblob"
   ]
  },
  {
   "cell_type": "markdown",
   "id": "0c8aad8a",
   "metadata": {},
   "source": [
    "- Using the TextBlob library to perform sentiment analysis on a collection of text data (reviews) stored in a DataFrame.\n",
    "- The purpose of using TextBlob is to calculate sentiment scores (polarity and subjectivity) for each review in the DataFrame and store the results in new columns.\n",
    "    - The polarity output is between -1 and 1. +1 refering to positive text and -1 to negative text\n",
    "    - The subjectivity output is between 0 and 1 and refers to opinionated statments of a text 0 refering to complete objectivity and 1 refering to complete subjectivity"
   ]
  },
  {
   "cell_type": "code",
   "execution_count": 2,
   "id": "deab0874",
   "metadata": {},
   "outputs": [],
   "source": [
    "#!pip install TextBlob"
   ]
  },
  {
   "cell_type": "code",
   "execution_count": 7,
   "id": "7d3bc83b",
   "metadata": {},
   "outputs": [],
   "source": [
    "from textblob import TextBlob"
   ]
  },
  {
   "cell_type": "code",
   "execution_count": 8,
   "id": "b1b74719",
   "metadata": {},
   "outputs": [],
   "source": [
    "polarity = []\n",
    "\n",
    "for sentence in df[\"Review_Text\"]:\n",
    "    polarity.append(TextBlob(sentence).polarity)"
   ]
  },
  {
   "cell_type": "code",
   "execution_count": 9,
   "id": "beffabf9",
   "metadata": {},
   "outputs": [],
   "source": [
    "subjectivity = []\n",
    "\n",
    "for sentence in df[\"Review_Text\"]:\n",
    "    subjectivity.append(TextBlob(sentence).subjectivity)"
   ]
  },
  {
   "cell_type": "markdown",
   "id": "7663b8ed",
   "metadata": {},
   "source": [
    "- Calculating the polarity and subjectivity scores for each review using TextBlob and then adding the calculated scores as new columns in the DataFrame. \n"
   ]
  },
  {
   "cell_type": "code",
   "execution_count": 11,
   "id": "eb282d86",
   "metadata": {},
   "outputs": [],
   "source": [
    "df[\"textblob_polarity\"], df[\"textblob_subjectivity\"] = polarity, subjectivity"
   ]
  },
  {
   "cell_type": "code",
   "execution_count": 12,
   "id": "bab85f7f",
   "metadata": {},
   "outputs": [
    {
     "data": {
      "text/html": [
       "<div>\n",
       "<style scoped>\n",
       "    .dataframe tbody tr th:only-of-type {\n",
       "        vertical-align: middle;\n",
       "    }\n",
       "\n",
       "    .dataframe tbody tr th {\n",
       "        vertical-align: top;\n",
       "    }\n",
       "\n",
       "    .dataframe thead th {\n",
       "        text-align: right;\n",
       "    }\n",
       "</style>\n",
       "<table border=\"1\" class=\"dataframe\">\n",
       "  <thead>\n",
       "    <tr style=\"text-align: right;\">\n",
       "      <th></th>\n",
       "      <th>Review_ID</th>\n",
       "      <th>Rating</th>\n",
       "      <th>Year_Month</th>\n",
       "      <th>Reviewer_Location</th>\n",
       "      <th>Review_Text</th>\n",
       "      <th>Branch</th>\n",
       "      <th>textblob_polarity</th>\n",
       "      <th>textblob_subjectivity</th>\n",
       "    </tr>\n",
       "  </thead>\n",
       "  <tbody>\n",
       "    <tr>\n",
       "      <th>0</th>\n",
       "      <td>670772142</td>\n",
       "      <td>4</td>\n",
       "      <td>2019-4</td>\n",
       "      <td>Australia</td>\n",
       "      <td>If you've ever been to Disneyland anywhere you...</td>\n",
       "      <td>Disneyland_HongKong</td>\n",
       "      <td>0.243981</td>\n",
       "      <td>0.561481</td>\n",
       "    </tr>\n",
       "    <tr>\n",
       "      <th>1</th>\n",
       "      <td>670682799</td>\n",
       "      <td>4</td>\n",
       "      <td>2019-5</td>\n",
       "      <td>Philippines</td>\n",
       "      <td>Its been a while since d last time we visit HK...</td>\n",
       "      <td>Disneyland_HongKong</td>\n",
       "      <td>0.236131</td>\n",
       "      <td>0.434649</td>\n",
       "    </tr>\n",
       "    <tr>\n",
       "      <th>2</th>\n",
       "      <td>670623270</td>\n",
       "      <td>4</td>\n",
       "      <td>2019-4</td>\n",
       "      <td>United Arab Emirates</td>\n",
       "      <td>Thanks God it wasn   t too hot or too humid wh...</td>\n",
       "      <td>Disneyland_HongKong</td>\n",
       "      <td>0.160498</td>\n",
       "      <td>0.422944</td>\n",
       "    </tr>\n",
       "    <tr>\n",
       "      <th>3</th>\n",
       "      <td>670607911</td>\n",
       "      <td>4</td>\n",
       "      <td>2019-4</td>\n",
       "      <td>Australia</td>\n",
       "      <td>HK Disneyland is a great compact park. Unfortu...</td>\n",
       "      <td>Disneyland_HongKong</td>\n",
       "      <td>0.189286</td>\n",
       "      <td>0.512143</td>\n",
       "    </tr>\n",
       "    <tr>\n",
       "      <th>4</th>\n",
       "      <td>670607296</td>\n",
       "      <td>4</td>\n",
       "      <td>2019-4</td>\n",
       "      <td>United Kingdom</td>\n",
       "      <td>the location is not in the city, took around 1...</td>\n",
       "      <td>Disneyland_HongKong</td>\n",
       "      <td>0.266667</td>\n",
       "      <td>0.437500</td>\n",
       "    </tr>\n",
       "    <tr>\n",
       "      <th>...</th>\n",
       "      <td>...</td>\n",
       "      <td>...</td>\n",
       "      <td>...</td>\n",
       "      <td>...</td>\n",
       "      <td>...</td>\n",
       "      <td>...</td>\n",
       "      <td>...</td>\n",
       "      <td>...</td>\n",
       "    </tr>\n",
       "    <tr>\n",
       "      <th>42651</th>\n",
       "      <td>1765031</td>\n",
       "      <td>5</td>\n",
       "      <td>missing</td>\n",
       "      <td>United Kingdom</td>\n",
       "      <td>i went to disneyland paris in july 03 and thou...</td>\n",
       "      <td>Disneyland_Paris</td>\n",
       "      <td>0.252273</td>\n",
       "      <td>0.570682</td>\n",
       "    </tr>\n",
       "    <tr>\n",
       "      <th>42652</th>\n",
       "      <td>1659553</td>\n",
       "      <td>5</td>\n",
       "      <td>missing</td>\n",
       "      <td>Canada</td>\n",
       "      <td>2 adults and 1 child of 11 visited Disneyland ...</td>\n",
       "      <td>Disneyland_Paris</td>\n",
       "      <td>0.179250</td>\n",
       "      <td>0.620750</td>\n",
       "    </tr>\n",
       "    <tr>\n",
       "      <th>42653</th>\n",
       "      <td>1645894</td>\n",
       "      <td>5</td>\n",
       "      <td>missing</td>\n",
       "      <td>South Africa</td>\n",
       "      <td>My eleven year old daughter and myself went to...</td>\n",
       "      <td>Disneyland_Paris</td>\n",
       "      <td>0.153205</td>\n",
       "      <td>0.459615</td>\n",
       "    </tr>\n",
       "    <tr>\n",
       "      <th>42654</th>\n",
       "      <td>1618637</td>\n",
       "      <td>4</td>\n",
       "      <td>missing</td>\n",
       "      <td>United States</td>\n",
       "      <td>This hotel, part of the Disneyland Paris compl...</td>\n",
       "      <td>Disneyland_Paris</td>\n",
       "      <td>0.265327</td>\n",
       "      <td>0.559821</td>\n",
       "    </tr>\n",
       "    <tr>\n",
       "      <th>42655</th>\n",
       "      <td>1536786</td>\n",
       "      <td>4</td>\n",
       "      <td>missing</td>\n",
       "      <td>United Kingdom</td>\n",
       "      <td>I went to the Disneyparis resort, in 1996, wit...</td>\n",
       "      <td>Disneyland_Paris</td>\n",
       "      <td>0.254881</td>\n",
       "      <td>0.515238</td>\n",
       "    </tr>\n",
       "  </tbody>\n",
       "</table>\n",
       "<p>42656 rows × 8 columns</p>\n",
       "</div>"
      ],
      "text/plain": [
       "       Review_ID  Rating Year_Month     Reviewer_Location  \\\n",
       "0      670772142       4     2019-4             Australia   \n",
       "1      670682799       4     2019-5           Philippines   \n",
       "2      670623270       4     2019-4  United Arab Emirates   \n",
       "3      670607911       4     2019-4             Australia   \n",
       "4      670607296       4     2019-4        United Kingdom   \n",
       "...          ...     ...        ...                   ...   \n",
       "42651    1765031       5    missing        United Kingdom   \n",
       "42652    1659553       5    missing                Canada   \n",
       "42653    1645894       5    missing          South Africa   \n",
       "42654    1618637       4    missing         United States   \n",
       "42655    1536786       4    missing        United Kingdom   \n",
       "\n",
       "                                             Review_Text               Branch  \\\n",
       "0      If you've ever been to Disneyland anywhere you...  Disneyland_HongKong   \n",
       "1      Its been a while since d last time we visit HK...  Disneyland_HongKong   \n",
       "2      Thanks God it wasn   t too hot or too humid wh...  Disneyland_HongKong   \n",
       "3      HK Disneyland is a great compact park. Unfortu...  Disneyland_HongKong   \n",
       "4      the location is not in the city, took around 1...  Disneyland_HongKong   \n",
       "...                                                  ...                  ...   \n",
       "42651  i went to disneyland paris in july 03 and thou...     Disneyland_Paris   \n",
       "42652  2 adults and 1 child of 11 visited Disneyland ...     Disneyland_Paris   \n",
       "42653  My eleven year old daughter and myself went to...     Disneyland_Paris   \n",
       "42654  This hotel, part of the Disneyland Paris compl...     Disneyland_Paris   \n",
       "42655  I went to the Disneyparis resort, in 1996, wit...     Disneyland_Paris   \n",
       "\n",
       "       textblob_polarity  textblob_subjectivity  \n",
       "0               0.243981               0.561481  \n",
       "1               0.236131               0.434649  \n",
       "2               0.160498               0.422944  \n",
       "3               0.189286               0.512143  \n",
       "4               0.266667               0.437500  \n",
       "...                  ...                    ...  \n",
       "42651           0.252273               0.570682  \n",
       "42652           0.179250               0.620750  \n",
       "42653           0.153205               0.459615  \n",
       "42654           0.265327               0.559821  \n",
       "42655           0.254881               0.515238  \n",
       "\n",
       "[42656 rows x 8 columns]"
      ]
     },
     "execution_count": 12,
     "metadata": {},
     "output_type": "execute_result"
    }
   ],
   "source": [
    "df"
   ]
  },
  {
   "cell_type": "markdown",
   "id": "7838b589",
   "metadata": {},
   "source": [
    "# Graphing"
   ]
  },
  {
   "cell_type": "markdown",
   "id": "10709085",
   "metadata": {},
   "source": [
    "- The histogram of the polatiry shown below..."
   ]
  },
  {
   "cell_type": "code",
   "execution_count": 13,
   "id": "329a904a",
   "metadata": {},
   "outputs": [
    {
     "data": {
      "image/png": "[encoded data removed]",
      "text/plain": [
       "<Figure size 640x480 with 1 Axes>"
      ]
     },
     "metadata": {},
     "output_type": "display_data"
    }
   ],
   "source": [
    "import matplotlib.pyplot as plt\n",
    "\n",
    "pol = df[\"textblob_polarity\"]\n",
    "\n",
    "\n",
    "plt.hist(pol, bins =50)\n",
    "plt.title('Polarity of Comments')\n",
    "plt.xlabel('Polatiry ')\n",
    "\n",
    "plt.ylabel('# of Comments')\n",
    "plt.show()"
   ]
  },
  {
   "cell_type": "markdown",
   "id": "b1de02f5",
   "metadata": {},
   "source": [
    "- The graph above shows us the distribution of polarized comments in the dataset and we see there is a slight skew to the right. Alothough the graph shows a normal distribution, the graph shows there are slightly more positive comments than negitive ones "
   ]
  },
  {
   "cell_type": "code",
   "execution_count": 14,
   "id": "d46ce32f",
   "metadata": {},
   "outputs": [
    {
     "data": {
      "image/png": "[encoded data removed]",
      "text/plain": [
       "<Figure size 640x480 with 1 Axes>"
      ]
     },
     "metadata": {},
     "output_type": "display_data"
    }
   ],
   "source": [
    "sub = df[\"textblob_subjectivity\"]\n",
    "\n",
    "plt.hist(sub, bins =50)\n",
    "plt.title('Subjectivity of Comments')\n",
    "plt.xlabel('Subjectivity ')\n",
    "plt.ylabel('# of Comments')\n",
    "plt.show()"
   ]
  },
  {
   "cell_type": "code",
   "execution_count": 15,
   "id": "4a5a1338",
   "metadata": {},
   "outputs": [],
   "source": [
    "df['tb_Sentiment_Type'] = ''\n",
    "df.loc[df[\"textblob_polarity\"]>0,'tb_Sentiment_Type']='POSITIVE'\n",
    "df.loc[df[\"textblob_polarity\"]==0,'tb_Sentiment_Type']='NEUTRAL'\n",
    "df.loc[df[\"textblob_polarity\"]<0,'tb_Sentiment_Type']='NEGATIVE'"
   ]
  },
  {
   "cell_type": "code",
   "execution_count": 16,
   "id": "73c8d615",
   "metadata": {},
   "outputs": [
    {
     "data": {
      "text/plain": [
       "<AxesSubplot:>"
      ]
     },
     "execution_count": 16,
     "metadata": {},
     "output_type": "execute_result"
    },
    {
     "data": {
      "image/png": "[encoded data removed]",
      "text/plain": [
       "<Figure size 640x480 with 1 Axes>"
      ]
     },
     "metadata": {},
     "output_type": "display_data"
    }
   ],
   "source": [
    "df['tb_Sentiment_Type'].value_counts().plot.bar()"
   ]
  },
  {
   "cell_type": "markdown",
   "id": "1113ae3b",
   "metadata": {},
   "source": [
    "- The plot above shows how many positive, negative, and neutral comments the datset has. We see the number of positive comments are overwehlming. "
   ]
  },
  {
   "cell_type": "markdown",
   "id": "fa8fcf6d",
   "metadata": {},
   "source": [
    "# Vader"
   ]
  },
  {
   "cell_type": "code",
   "execution_count": 3,
   "id": "fec665a6",
   "metadata": {},
   "outputs": [],
   "source": [
    "#pip install vaderSentiment"
   ]
  },
  {
   "cell_type": "code",
   "execution_count": 1,
   "id": "85e1f226",
   "metadata": {},
   "outputs": [],
   "source": [
    "from vaderSentiment.vaderSentiment import SentimentIntensityAnalyzer\n",
    "analyzer = SentimentIntensityAnalyzer()"
   ]
  },
  {
   "cell_type": "code",
   "execution_count": 20,
   "id": "607ca70e",
   "metadata": {},
   "outputs": [],
   "source": [
    "vs = []\n",
    "\n",
    "for sentence in df[\"Review_Text\"]:\n",
    "    vs.append(analyzer.polarity_scores(sentence))"
   ]
  },
  {
   "cell_type": "code",
   "execution_count": 21,
   "id": "df900400",
   "metadata": {},
   "outputs": [],
   "source": [
    "df[\"vs_score\"] = vs\n"
   ]
  },
  {
   "cell_type": "code",
   "execution_count": 22,
   "id": "3aca7a00",
   "metadata": {},
   "outputs": [],
   "source": [
    "df['compound'] = df['vs_score'].apply(lambda score_dict: score_dict['compound'])\n",
    "df['vs_sentiment_type']=''\n",
    "df.loc[df.compound>0,'vs_sentiment_type']='POSITIVE'\n",
    "df.loc[df.compound==0,'vs_sentiment_type']='NEUTRAL'\n",
    "df.loc[df.compound<0,'vs_sentiment_type']='NEGATIVE'"
   ]
  },
  {
   "cell_type": "markdown",
   "id": "41686626",
   "metadata": {},
   "source": [
    "- Analyzer is another way to determine the sentiment of a text using VADER. The compound score is the range from 0 to 1 is positive "
   ]
  },
  {
   "cell_type": "code",
   "execution_count": 24,
   "id": "8f7bbbf4",
   "metadata": {},
   "outputs": [
    {
     "data": {
      "text/html": [
       "<div>\n",
       "<style scoped>\n",
       "    .dataframe tbody tr th:only-of-type {\n",
       "        vertical-align: middle;\n",
       "    }\n",
       "\n",
       "    .dataframe tbody tr th {\n",
       "        vertical-align: top;\n",
       "    }\n",
       "\n",
       "    .dataframe thead th {\n",
       "        text-align: right;\n",
       "    }\n",
       "</style>\n",
       "<table border=\"1\" class=\"dataframe\">\n",
       "  <thead>\n",
       "    <tr style=\"text-align: right;\">\n",
       "      <th></th>\n",
       "      <th>Review_ID</th>\n",
       "      <th>Rating</th>\n",
       "      <th>Year_Month</th>\n",
       "      <th>Reviewer_Location</th>\n",
       "      <th>Review_Text</th>\n",
       "      <th>Branch</th>\n",
       "      <th>textblob_polarity</th>\n",
       "      <th>textblob_subjectivity</th>\n",
       "      <th>tb_Sentiment_Type</th>\n",
       "      <th>vs_score</th>\n",
       "      <th>compound</th>\n",
       "      <th>vs_sentiment_type</th>\n",
       "    </tr>\n",
       "  </thead>\n",
       "  <tbody>\n",
       "    <tr>\n",
       "      <th>0</th>\n",
       "      <td>670772142</td>\n",
       "      <td>4</td>\n",
       "      <td>2019-4</td>\n",
       "      <td>Australia</td>\n",
       "      <td>If you've ever been to Disneyland anywhere you...</td>\n",
       "      <td>Disneyland_HongKong</td>\n",
       "      <td>0.243981</td>\n",
       "      <td>0.561481</td>\n",
       "      <td>POSITIVE</td>\n",
       "      <td>{'neg': 0.0, 'neu': 0.891, 'pos': 0.109, 'comp...</td>\n",
       "      <td>0.7069</td>\n",
       "      <td>POSITIVE</td>\n",
       "    </tr>\n",
       "    <tr>\n",
       "      <th>1</th>\n",
       "      <td>670682799</td>\n",
       "      <td>4</td>\n",
       "      <td>2019-5</td>\n",
       "      <td>Philippines</td>\n",
       "      <td>Its been a while since d last time we visit HK...</td>\n",
       "      <td>Disneyland_HongKong</td>\n",
       "      <td>0.236131</td>\n",
       "      <td>0.434649</td>\n",
       "      <td>POSITIVE</td>\n",
       "      <td>{'neg': 0.044, 'neu': 0.76, 'pos': 0.195, 'com...</td>\n",
       "      <td>0.9853</td>\n",
       "      <td>POSITIVE</td>\n",
       "    </tr>\n",
       "    <tr>\n",
       "      <th>2</th>\n",
       "      <td>670623270</td>\n",
       "      <td>4</td>\n",
       "      <td>2019-4</td>\n",
       "      <td>United Arab Emirates</td>\n",
       "      <td>Thanks God it wasn   t too hot or too humid wh...</td>\n",
       "      <td>Disneyland_HongKong</td>\n",
       "      <td>0.160498</td>\n",
       "      <td>0.422944</td>\n",
       "      <td>POSITIVE</td>\n",
       "      <td>{'neg': 0.022, 'neu': 0.758, 'pos': 0.22, 'com...</td>\n",
       "      <td>0.9920</td>\n",
       "      <td>POSITIVE</td>\n",
       "    </tr>\n",
       "    <tr>\n",
       "      <th>3</th>\n",
       "      <td>670607911</td>\n",
       "      <td>4</td>\n",
       "      <td>2019-4</td>\n",
       "      <td>Australia</td>\n",
       "      <td>HK Disneyland is a great compact park. Unfortu...</td>\n",
       "      <td>Disneyland_HongKong</td>\n",
       "      <td>0.189286</td>\n",
       "      <td>0.512143</td>\n",
       "      <td>POSITIVE</td>\n",
       "      <td>{'neg': 0.078, 'neu': 0.768, 'pos': 0.154, 'co...</td>\n",
       "      <td>0.8425</td>\n",
       "      <td>POSITIVE</td>\n",
       "    </tr>\n",
       "    <tr>\n",
       "      <th>4</th>\n",
       "      <td>670607296</td>\n",
       "      <td>4</td>\n",
       "      <td>2019-4</td>\n",
       "      <td>United Kingdom</td>\n",
       "      <td>the location is not in the city, took around 1...</td>\n",
       "      <td>Disneyland_HongKong</td>\n",
       "      <td>0.266667</td>\n",
       "      <td>0.437500</td>\n",
       "      <td>POSITIVE</td>\n",
       "      <td>{'neg': 0.0, 'neu': 0.902, 'pos': 0.098, 'comp...</td>\n",
       "      <td>0.2846</td>\n",
       "      <td>POSITIVE</td>\n",
       "    </tr>\n",
       "  </tbody>\n",
       "</table>\n",
       "</div>"
      ],
      "text/plain": [
       "   Review_ID  Rating Year_Month     Reviewer_Location  \\\n",
       "0  670772142       4     2019-4             Australia   \n",
       "1  670682799       4     2019-5           Philippines   \n",
       "2  670623270       4     2019-4  United Arab Emirates   \n",
       "3  670607911       4     2019-4             Australia   \n",
       "4  670607296       4     2019-4        United Kingdom   \n",
       "\n",
       "                                         Review_Text               Branch  \\\n",
       "0  If you've ever been to Disneyland anywhere you...  Disneyland_HongKong   \n",
       "1  Its been a while since d last time we visit HK...  Disneyland_HongKong   \n",
       "2  Thanks God it wasn   t too hot or too humid wh...  Disneyland_HongKong   \n",
       "3  HK Disneyland is a great compact park. Unfortu...  Disneyland_HongKong   \n",
       "4  the location is not in the city, took around 1...  Disneyland_HongKong   \n",
       "\n",
       "   textblob_polarity  textblob_subjectivity tb_Sentiment_Type  \\\n",
       "0           0.243981               0.561481          POSITIVE   \n",
       "1           0.236131               0.434649          POSITIVE   \n",
       "2           0.160498               0.422944          POSITIVE   \n",
       "3           0.189286               0.512143          POSITIVE   \n",
       "4           0.266667               0.437500          POSITIVE   \n",
       "\n",
       "                                            vs_score  compound  \\\n",
       "0  {'neg': 0.0, 'neu': 0.891, 'pos': 0.109, 'comp...    0.7069   \n",
       "1  {'neg': 0.044, 'neu': 0.76, 'pos': 0.195, 'com...    0.9853   \n",
       "2  {'neg': 0.022, 'neu': 0.758, 'pos': 0.22, 'com...    0.9920   \n",
       "3  {'neg': 0.078, 'neu': 0.768, 'pos': 0.154, 'co...    0.8425   \n",
       "4  {'neg': 0.0, 'neu': 0.902, 'pos': 0.098, 'comp...    0.2846   \n",
       "\n",
       "  vs_sentiment_type  \n",
       "0          POSITIVE  \n",
       "1          POSITIVE  \n",
       "2          POSITIVE  \n",
       "3          POSITIVE  \n",
       "4          POSITIVE  "
      ]
     },
     "execution_count": 24,
     "metadata": {},
     "output_type": "execute_result"
    }
   ],
   "source": [
    "df.head()"
   ]
  },
  {
   "cell_type": "code",
   "execution_count": 22,
   "id": "60d6bff6",
   "metadata": {},
   "outputs": [
    {
     "data": {
      "text/plain": [
       "<AxesSubplot:>"
      ]
     },
     "execution_count": 22,
     "metadata": {},
     "output_type": "execute_result"
    },
    {
     "data": {
      "image/png": "[encoded data removed]",
      "text/plain": [
       "<Figure size 640x480 with 1 Axes>"
      ]
     },
     "metadata": {},
     "output_type": "display_data"
    }
   ],
   "source": [
    "df['vs_sentiment_type'].value_counts().plot.bar()"
   ]
  },
  {
   "cell_type": "markdown",
   "id": "d3ed7fb8",
   "metadata": {},
   "source": [
    "# NLTK"
   ]
  },
  {
   "cell_type": "code",
   "execution_count": 23,
   "id": "b1c456d1",
   "metadata": {},
   "outputs": [],
   "source": [
    "import nltk\n",
    "from nltk import FreqDist\n",
    "from nltk.tokenize import RegexpTokenizer\n",
    "from nltk.corpus import state_union"
   ]
  },
  {
   "cell_type": "markdown",
   "id": "fe81bc7c",
   "metadata": {},
   "source": [
    "### Frequent words"
   ]
  },
  {
   "cell_type": "code",
   "execution_count": 24,
   "id": "66bdde1a",
   "metadata": {},
   "outputs": [],
   "source": [
    "stopwords = nltk.corpus.stopwords.words(\"english\")"
   ]
  },
  {
   "cell_type": "code",
   "execution_count": 25,
   "id": "33deb6c7",
   "metadata": {
    "scrolled": true
   },
   "outputs": [
    {
     "name": "stdout",
     "output_type": "stream",
     "text": [
      "There are 29766104 words in the combination of all review.\n"
     ]
    }
   ],
   "source": [
    "text = \" \".join(review for review in df[\"Review_Text\"])\n",
    "print (\"There are {} words in the combination of all review.\".format(len(text)))"
   ]
  },
  {
   "cell_type": "markdown",
   "id": "6a03d8a7",
   "metadata": {},
   "source": []
  },
  {
   "cell_type": "code",
   "execution_count": 26,
   "id": "34485b6d",
   "metadata": {},
   "outputs": [
    {
     "data": {
      "image/png": "[encoded data removed]",
      "text/plain": [
       "<Figure size 640x480 with 1 Axes>"
      ]
     },
     "metadata": {},
     "output_type": "display_data"
    },
    {
     "data": {
      "text/plain": [
       "<AxesSubplot:xlabel='Samples', ylabel='Counts'>"
      ]
     },
     "execution_count": 26,
     "metadata": {},
     "output_type": "execute_result"
    }
   ],
   "source": [
    "tokenizer = RegexpTokenizer(r'\\w+')\n",
    "tokens = tokenizer.tokenize(text)\n",
    "freq = FreqDist(tokens)\n",
    "freq.plot(20)"
   ]
  },
  {
   "cell_type": "code",
   "execution_count": 27,
   "id": "8fcdb5a0",
   "metadata": {},
   "outputs": [
    {
     "data": {
      "image/png": "[encoded data removed]",
      "text/plain": [
       "<Figure size 640x480 with 1 Axes>"
      ]
     },
     "metadata": {},
     "output_type": "display_data"
    },
    {
     "data": {
      "text/plain": [
       "<AxesSubplot:xlabel='Samples', ylabel='Counts'>"
      ]
     },
     "execution_count": 27,
     "metadata": {},
     "output_type": "execute_result"
    }
   ],
   "source": [
    "words = [w for w in tokens if w.lower() not in stopwords] # excluding stopwords\n",
    "freq = FreqDist(words)\n",
    "freq.plot(20)"
   ]
  },
  {
   "cell_type": "code",
   "execution_count": 28,
   "id": "862d9ab8",
   "metadata": {},
   "outputs": [
    {
     "name": "stdout",
     "output_type": "stream",
     "text": [
      "      park      rides     Disney Disneyland       time        day        get         go        one       ride \n",
      "     40725      34179      33603      31245      29726      28219      22095      19314      17768      17549 \n"
     ]
    }
   ],
   "source": [
    "freq.tabulate(10) # the most frequent 10 words"
   ]
  },
  {
   "cell_type": "markdown",
   "id": "45e87846",
   "metadata": {},
   "source": [
    "#### Concordance & Collocations\n",
    "\n",
    "In the context of NLP, a concordance is a collection of word locations along with their context. You can use concordances to find:\n",
    "\n",
    "How many times a word appears?\n",
    "\n",
    "Where each occurrence appears?\n",
    "\n",
    "What words surround each occurrence?"
   ]
  },
  {
   "cell_type": "code",
   "execution_count": 29,
   "id": "f5901f5f",
   "metadata": {},
   "outputs": [
    {
     "name": "stdout",
     "output_type": "stream",
     "text": [
      "Displaying 10 of 45346 matches:\n",
      " Disney brand Seems local like Ocean Park even worst got SMILING face wanna u \n",
      "nts Last also Starbucks inside theme park Thanks God hot humid visiting park o\n",
      "e park Thanks God hot humid visiting park otherwise would big issue lot shade \n",
      "nderwhelmed choice rides attractions park quite small really expecting somethi\n",
      " enjoyed HK Disneyland great compact park Unfortunately quite bit maintenance \n",
      " expensive Disneyland well Basically park good small children people never Dis\n",
      "mid week biggest disappointment food Park Even Maxim decent Restaurant Main St\n",
      "king could find map place priced fun park Disney characters 2 seen cabana phot\n",
      "nd day went early went straight back park lineups children got go many rides t\n",
      "s general food drink expensive small park easily done 1 day huge enough visit \n"
     ]
    }
   ],
   "source": [
    "text2 = nltk.Text(words)\n",
    "text2.concordance(\"park\", lines=10)"
   ]
  },
  {
   "cell_type": "markdown",
   "id": "d6e37b0c",
   "metadata": {},
   "source": [
    "Collocations are series of words that frequently appear together in a given text.\n",
    "\n",
    "In the State of the Union corpus, for example, you’d expect to find the words United and States appearing next to each other very often. Those two words appearing together is a collocation.\n"
   ]
  },
  {
   "cell_type": "code",
   "execution_count": 30,
   "id": "614ebde3",
   "metadata": {},
   "outputs": [
    {
     "data": {
      "text/plain": [
       "[(('happiest', 'place', 'earth'), 1010),\n",
       " (('Hong', 'Kong', 'Disneyland'), 910),\n",
       " (('Big', 'Thunder', 'Mountain'), 752),\n",
       " (('year', 'old', 'daughter'), 459),\n",
       " (('4', 'year', 'old'), 449),\n",
       " (('get', 'fast', 'pass'), 434),\n",
       " (('fast', 'pass', 'system'), 431),\n",
       " (('Walt', 'Disney', 'World'), 418),\n",
       " (('Disneyland', 'California', 'Adventure'), 411),\n",
       " (('day', 'park', 'hopper'), 402)]"
      ]
     },
     "execution_count": 30,
     "metadata": {},
     "output_type": "execute_result"
    }
   ],
   "source": [
    "finder = nltk.collocations.TrigramCollocationFinder.from_words(text2)\n",
    "finder.ngram_fd.most_common(10)"
   ]
  },
  {
   "cell_type": "markdown",
   "id": "f04f1b55",
   "metadata": {},
   "source": [
    "#### NLTK Sentiment Analyzer"
   ]
  },
  {
   "cell_type": "code",
   "execution_count": 1,
   "id": "3aea29ca",
   "metadata": {},
   "outputs": [
    {
     "name": "stderr",
     "output_type": "stream",
     "text": [
      "[nltk_data] Downloading package vader_lexicon to\n",
      "[nltk_data]     /Users/miemie/nltk_data...\n",
      "[nltk_data]   Unzipping sentiment/vader_lexicon.zip.\n"
     ]
    }
   ],
   "source": [
    "import nltk\n",
    "nltk.download('vader_lexicon')\n",
    "from nltk.sentiment import SentimentIntensityAnalyzer"
   ]
  },
  {
   "cell_type": "code",
   "execution_count": 18,
   "id": "6dfb9493",
   "metadata": {},
   "outputs": [],
   "source": [
    "from nltk.tokenize import RegexpTokenizer\n",
    "from nltk.corpus import stopwords\n",
    "from nltk.probability import FreqDist"
   ]
  },
  {
   "cell_type": "code",
   "execution_count": 19,
   "id": "2bccef9d",
   "metadata": {},
   "outputs": [
    {
     "name": "stderr",
     "output_type": "stream",
     "text": [
      "[nltk_data] Downloading package stopwords to\n",
      "[nltk_data]     /Users/miemie/nltk_data...\n",
      "[nltk_data]   Package stopwords is already up-to-date!\n"
     ]
    },
    {
     "data": {
      "text/plain": [
       "True"
      ]
     },
     "execution_count": 19,
     "metadata": {},
     "output_type": "execute_result"
    }
   ],
   "source": [
    "# Download the stopwords data\n",
    "nltk.download('stopwords')"
   ]
  },
  {
   "cell_type": "code",
   "execution_count": 4,
   "id": "6ff9a2f0",
   "metadata": {},
   "outputs": [],
   "source": [
    "sia = SentimentIntensityAnalyzer()"
   ]
  },
  {
   "cell_type": "code",
   "execution_count": 10,
   "id": "9680e1f3",
   "metadata": {},
   "outputs": [],
   "source": [
    "nltk_score = []\n",
    "\n",
    "for review in df[\"Review_Text\"]:\n",
    "    nltk_score.append(sia.polarity_scores(review))"
   ]
  },
  {
   "cell_type": "code",
   "execution_count": 16,
   "id": "1e7dc381",
   "metadata": {},
   "outputs": [
    {
     "data": {
      "text/plain": [
       "0        {'neg': 0.0, 'neu': 0.887, 'pos': 0.113, 'comp...\n",
       "1        {'neg': 0.04, 'neu': 0.73, 'pos': 0.231, 'comp...\n",
       "2        {'neg': 0.024, 'neu': 0.742, 'pos': 0.235, 'co...\n",
       "3        {'neg': 0.08, 'neu': 0.76, 'pos': 0.16, 'compo...\n",
       "4        {'neg': 0.0, 'neu': 0.899, 'pos': 0.101, 'comp...\n",
       "                               ...                        \n",
       "42651    {'neg': 0.0, 'neu': 0.833, 'pos': 0.167, 'comp...\n",
       "42652    {'neg': 0.02, 'neu': 0.776, 'pos': 0.204, 'com...\n",
       "42653    {'neg': 0.021, 'neu': 0.881, 'pos': 0.098, 'co...\n",
       "42654    {'neg': 0.0, 'neu': 0.847, 'pos': 0.153, 'comp...\n",
       "42655    {'neg': 0.026, 'neu': 0.806, 'pos': 0.168, 'co...\n",
       "Name: nltk_score, Length: 42656, dtype: object"
      ]
     },
     "execution_count": 16,
     "metadata": {},
     "output_type": "execute_result"
    }
   ],
   "source": [
    "df[\"nltk_score\"] = nltk_score\n",
    "df[\"nltk_score\"]"
   ]
  },
  {
   "cell_type": "code",
   "execution_count": 12,
   "id": "d807c415",
   "metadata": {},
   "outputs": [],
   "source": [
    "df['nltk_compound'] = df['nltk_score'].apply(lambda score_dict: score_dict['compound'])\n",
    "df['nltk_sentiment_type']=''\n",
    "df.loc[df.nltk_compound>0,'nltk_sentiment_type']='POSITIVE'\n",
    "df.loc[df.nltk_compound==0,'nltk_sentiment_type']='NEUTRAL'\n",
    "df.loc[df.nltk_compound<0,'nltk_sentiment_type']='NEGATIVE'"
   ]
  },
  {
   "cell_type": "code",
   "execution_count": 13,
   "id": "f6a72ff6",
   "metadata": {},
   "outputs": [
    {
     "data": {
      "text/plain": [
       "<AxesSubplot:>"
      ]
     },
     "execution_count": 13,
     "metadata": {},
     "output_type": "execute_result"
    },
    {
     "data": {
      "image/png": "[encoded data removed]",
      "text/plain": [
       "<Figure size 640x480 with 1 Axes>"
      ]
     },
     "metadata": {},
     "output_type": "display_data"
    }
   ],
   "source": [
    "df['nltk_sentiment_type'].value_counts().plot.bar()"
   ]
  },
  {
   "cell_type": "code",
   "execution_count": 20,
   "id": "32f6dd00",
   "metadata": {},
   "outputs": [],
   "source": [
    "# Create a tokenizer instance and define the stopwords set\n",
    "tokenizer = RegexpTokenizer(r'\\w+')\n",
    "stopwords = set(stopwords.words('english'))"
   ]
  },
  {
   "cell_type": "code",
   "execution_count": 21,
   "id": "ef44c396",
   "metadata": {},
   "outputs": [
    {
     "data": {
      "text/plain": [
       "[('park', 4221),\n",
       " ('Disney', 3687),\n",
       " ('rides', 3584),\n",
       " ('Disneyland', 2781),\n",
       " ('day', 2484),\n",
       " ('time', 2444),\n",
       " ('get', 2314),\n",
       " ('ride', 1971),\n",
       " ('one', 1957),\n",
       " ('go', 1896)]"
      ]
     },
     "execution_count": 21,
     "metadata": {},
     "output_type": "execute_result"
    }
   ],
   "source": [
    "# Negative review frequent word list:\n",
    "neg_review = df[df['nltk_sentiment_type']=='NEGATIVE'][\"Review_Text\"]\n",
    "\n",
    "neg_text = \" \".join(review for review in neg_review)\n",
    "neg_tokens = tokenizer.tokenize(neg_text)\n",
    "neg_words = [w for w in neg_tokens if w.lower() not in stopwords] # excluding stopwords\n",
    "\n",
    "freq = FreqDist(neg_words)\n",
    "freq.most_common(10)"
   ]
  }
 ],
 "metadata": {
  "kernelspec": {
   "display_name": "Python 3 (ipykernel)",
   "language": "python",
   "name": "python3"
  },
  "language_info": {
   "codemirror_mode": {
    "name": "ipython",
    "version": 3
   },
   "file_extension": ".py",
   "mimetype": "text/x-python",
   "name": "python",
   "nbconvert_exporter": "python",
   "pygments_lexer": "ipython3",
   "version": "3.10.7"
  }
 },
 "nbformat": 4,
 "nbformat_minor": 5
}
